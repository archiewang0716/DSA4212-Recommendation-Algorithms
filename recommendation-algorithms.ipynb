{
  "cells": [
    {
      "cell_type": "markdown",
      "metadata": {
        "id": "s7FfTvodnI7N"
      },
      "source": [
        "<h1><center>DSA 4212: Year 2022</center></h1>\n",
        "<h3><center> Assignment 2 (Deadline: Sunday 27th March at 23:59) </center></h3>\n",
        "<h4><center> Group Number: XX </center></h4>\n",
        "<h4><center> Filename: assignment_2_XX.ipynb where XX is your group number</center></h4>\n",
        "<h4><center> Group Member 1: XXX, XXX </center></h4>\n",
        "<h4><center> Group Member 2: XXX, XXX </center></h4>\n",
        "<h4><center> Group Member 3: XXX, XXX </center></h4>\n",
        "<h4><center> Group Member 4: XXX, XXX </center></h4>\n",
        "\n",
        "**Remark:** as described below, each group has to submit two documents on lumiNUS: \n",
        "1. a jupyter notebook with your code  \n",
        "2. a pdf report explaining your approaches and conclusions.\n",
        "3. you can have a look at `https://www.overleaf.com/read/xmvqgpsdqwyx` if you would like to use Overleaf and Latex to rapidly produce a neat report. You can use your NUS email to create an Overleaf account.\n",
        "\n",
        "**File naming convention:**\n",
        "1. the Jupyter notebook needs to be named `assignment_2_XX.ipynb`. For example, group number 3 needs to name its jupyter notebook as `assignment_2_03.ipynb`.\n",
        "1. the pdf report needs to be named `assignment_2_XX.pdf`. For example, group number 3 needs to name its pdf report as `assignment_2_03.pdf`.\n",
        "\n"
      ]
    },
    {
      "cell_type": "code",
      "execution_count": 1,
      "metadata": {
        "id": "Q2pT_gNuoOp4",
        "colab": {
          "base_uri": "https://localhost:8080/"
        },
        "outputId": "b55bdf38-5f97-4dee-c963-9f9cc0765864"
      },
      "outputs": [
        {
          "output_type": "stream",
          "name": "stdout",
          "text": [
            "Mounted at /content/drive\n"
          ]
        }
      ],
      "source": [
        "from google.colab import drive\n",
        "drive.mount('/content/drive')\n"
      ]
    },
    {
      "cell_type": "code",
      "execution_count": 2,
      "metadata": {
        "id": "5LVkFx5inI7c"
      },
      "outputs": [],
      "source": [
        "%matplotlib inline\n",
        "from jax.config import config\n",
        "config.update(\"jax_enable_x64\", True) # for higher accuracy\n",
        "\n",
        "import jax\n",
        "import jax.numpy as jnp\n",
        "\n",
        "import pylab as plt\n",
        "import imageio\n",
        "import os\n",
        "import numpy as np\n",
        "# to install scikit-image: !pip install scikit-image\n",
        "from skimage.transform import rescale, resize, downscale_local_mean\n",
        "import pandas as pd\n",
        "import scipy\n",
        "import copy\n",
        "from skimage import exposure\n",
        "from sklearn.model_selection import train_test_split\n",
        "import time\n",
        "from functools import reduce\n",
        "from sklearn import metrics\n",
        "from sklearn.metrics.pairwise import cosine_similarity\n",
        "from sklearn.metrics import mean_squared_error\n",
        "\n",
        "from collections import Counter\n",
        "from tqdm import tqdm\n",
        "from scipy.sparse import csr_matrix\n",
        "import math\n",
        "import operator\n",
        "from sklearn.preprocessing import normalize\n",
        "\n",
        "from numpy.linalg import norm\n",
        "from random import normalvariate\n",
        "from math import sqrt\n",
        "\n",
        "\n",
        "import random\n",
        "import os\n",
        "\n",
        "import time\n"
      ]
    },
    {
      "cell_type": "markdown",
      "source": [
        "### Random Seed"
      ],
      "metadata": {
        "id": "XNwbrynuEfaJ"
      }
    },
    {
      "cell_type": "code",
      "source": [
        "np.random.seed(1)"
      ],
      "metadata": {
        "id": "-8JKsmabEN2u"
      },
      "execution_count": 3,
      "outputs": []
    },
    {
      "cell_type": "markdown",
      "metadata": {
        "id": "EnjsSbVPnI7h"
      },
      "source": [
        "# Load Dataset"
      ]
    },
    {
      "cell_type": "code",
      "source": [
        "path_csv  = \"./drive/MyDrive/DSA4212/ml-1m\"\n"
      ],
      "metadata": {
        "id": "Rf9-mZdwle5X"
      },
      "execution_count": 4,
      "outputs": []
    },
    {
      "cell_type": "markdown",
      "source": [
        "## Load Movies"
      ],
      "metadata": {
        "id": "HkAiqyBAnsJw"
      }
    },
    {
      "cell_type": "code",
      "source": [
        "movies = pd.read_csv(os.path.join(path_csv,'movies.dat'), sep = \"::\", header=None, encoding = 'ISO-8859-1',names = [\"MovieID\",\"Title\",\"Genres\"]) "
      ],
      "metadata": {
        "colab": {
          "base_uri": "https://localhost:8080/"
        },
        "id": "g6hOSY1vwWvv",
        "outputId": "775045a8-5928-4526-aac8-109ff1675e61"
      },
      "execution_count": 5,
      "outputs": [
        {
          "output_type": "stream",
          "name": "stderr",
          "text": [
            "/usr/local/lib/python3.7/dist-packages/pandas/util/_decorators.py:311: ParserWarning: Falling back to the 'python' engine because the 'c' engine does not support regex separators (separators > 1 char and different from '\\s+' are interpreted as regex); you can avoid this warning by specifying engine='python'.\n",
            "  return func(*args, **kwargs)\n"
          ]
        }
      ]
    },
    {
      "cell_type": "code",
      "source": [
        "movies = pd.read_csv(os.path.join(path_csv,'movies.dat'), sep = \"::\", header=None, encoding = 'ISO-8859-1',names = [\"MovieID\",\"Title\",\"Genres\"]) "
      ],
      "metadata": {
        "colab": {
          "base_uri": "https://localhost:8080/"
        },
        "id": "ZGPUQi-hrPM-",
        "outputId": "be089870-1ffc-40a2-f101-746ef6caa4b2"
      },
      "execution_count": 6,
      "outputs": [
        {
          "output_type": "stream",
          "name": "stderr",
          "text": [
            "/usr/local/lib/python3.7/dist-packages/pandas/util/_decorators.py:311: ParserWarning: Falling back to the 'python' engine because the 'c' engine does not support regex separators (separators > 1 char and different from '\\s+' are interpreted as regex); you can avoid this warning by specifying engine='python'.\n",
            "  return func(*args, **kwargs)\n"
          ]
        }
      ]
    },
    {
      "cell_type": "code",
      "source": [
        "movies.head()"
      ],
      "metadata": {
        "colab": {
          "base_uri": "https://localhost:8080/",
          "height": 200
        },
        "id": "0Y2gJk7vsZ3a",
        "outputId": "8ffd9d61-64b3-4bc8-86ef-7bd7e0be00ee"
      },
      "execution_count": 7,
      "outputs": [
        {
          "output_type": "execute_result",
          "data": {
            "text/plain": [
              "   MovieID                               Title                        Genres\n",
              "0        1                    Toy Story (1995)   Animation|Children's|Comedy\n",
              "1        2                      Jumanji (1995)  Adventure|Children's|Fantasy\n",
              "2        3             Grumpier Old Men (1995)                Comedy|Romance\n",
              "3        4            Waiting to Exhale (1995)                  Comedy|Drama\n",
              "4        5  Father of the Bride Part II (1995)                        Comedy"
            ],
            "text/html": [
              "\n",
              "  <div id=\"df-69daeea4-c785-4ece-96fc-22aa0ce8c4c6\">\n",
              "    <div class=\"colab-df-container\">\n",
              "      <div>\n",
              "<style scoped>\n",
              "    .dataframe tbody tr th:only-of-type {\n",
              "        vertical-align: middle;\n",
              "    }\n",
              "\n",
              "    .dataframe tbody tr th {\n",
              "        vertical-align: top;\n",
              "    }\n",
              "\n",
              "    .dataframe thead th {\n",
              "        text-align: right;\n",
              "    }\n",
              "</style>\n",
              "<table border=\"1\" class=\"dataframe\">\n",
              "  <thead>\n",
              "    <tr style=\"text-align: right;\">\n",
              "      <th></th>\n",
              "      <th>MovieID</th>\n",
              "      <th>Title</th>\n",
              "      <th>Genres</th>\n",
              "    </tr>\n",
              "  </thead>\n",
              "  <tbody>\n",
              "    <tr>\n",
              "      <th>0</th>\n",
              "      <td>1</td>\n",
              "      <td>Toy Story (1995)</td>\n",
              "      <td>Animation|Children's|Comedy</td>\n",
              "    </tr>\n",
              "    <tr>\n",
              "      <th>1</th>\n",
              "      <td>2</td>\n",
              "      <td>Jumanji (1995)</td>\n",
              "      <td>Adventure|Children's|Fantasy</td>\n",
              "    </tr>\n",
              "    <tr>\n",
              "      <th>2</th>\n",
              "      <td>3</td>\n",
              "      <td>Grumpier Old Men (1995)</td>\n",
              "      <td>Comedy|Romance</td>\n",
              "    </tr>\n",
              "    <tr>\n",
              "      <th>3</th>\n",
              "      <td>4</td>\n",
              "      <td>Waiting to Exhale (1995)</td>\n",
              "      <td>Comedy|Drama</td>\n",
              "    </tr>\n",
              "    <tr>\n",
              "      <th>4</th>\n",
              "      <td>5</td>\n",
              "      <td>Father of the Bride Part II (1995)</td>\n",
              "      <td>Comedy</td>\n",
              "    </tr>\n",
              "  </tbody>\n",
              "</table>\n",
              "</div>\n",
              "      <button class=\"colab-df-convert\" onclick=\"convertToInteractive('df-69daeea4-c785-4ece-96fc-22aa0ce8c4c6')\"\n",
              "              title=\"Convert this dataframe to an interactive table.\"\n",
              "              style=\"display:none;\">\n",
              "        \n",
              "  <svg xmlns=\"http://www.w3.org/2000/svg\" height=\"24px\"viewBox=\"0 0 24 24\"\n",
              "       width=\"24px\">\n",
              "    <path d=\"M0 0h24v24H0V0z\" fill=\"none\"/>\n",
              "    <path d=\"M18.56 5.44l.94 2.06.94-2.06 2.06-.94-2.06-.94-.94-2.06-.94 2.06-2.06.94zm-11 1L8.5 8.5l.94-2.06 2.06-.94-2.06-.94L8.5 2.5l-.94 2.06-2.06.94zm10 10l.94 2.06.94-2.06 2.06-.94-2.06-.94-.94-2.06-.94 2.06-2.06.94z\"/><path d=\"M17.41 7.96l-1.37-1.37c-.4-.4-.92-.59-1.43-.59-.52 0-1.04.2-1.43.59L10.3 9.45l-7.72 7.72c-.78.78-.78 2.05 0 2.83L4 21.41c.39.39.9.59 1.41.59.51 0 1.02-.2 1.41-.59l7.78-7.78 2.81-2.81c.8-.78.8-2.07 0-2.86zM5.41 20L4 18.59l7.72-7.72 1.47 1.35L5.41 20z\"/>\n",
              "  </svg>\n",
              "      </button>\n",
              "      \n",
              "  <style>\n",
              "    .colab-df-container {\n",
              "      display:flex;\n",
              "      flex-wrap:wrap;\n",
              "      gap: 12px;\n",
              "    }\n",
              "\n",
              "    .colab-df-convert {\n",
              "      background-color: #E8F0FE;\n",
              "      border: none;\n",
              "      border-radius: 50%;\n",
              "      cursor: pointer;\n",
              "      display: none;\n",
              "      fill: #1967D2;\n",
              "      height: 32px;\n",
              "      padding: 0 0 0 0;\n",
              "      width: 32px;\n",
              "    }\n",
              "\n",
              "    .colab-df-convert:hover {\n",
              "      background-color: #E2EBFA;\n",
              "      box-shadow: 0px 1px 2px rgba(60, 64, 67, 0.3), 0px 1px 3px 1px rgba(60, 64, 67, 0.15);\n",
              "      fill: #174EA6;\n",
              "    }\n",
              "\n",
              "    [theme=dark] .colab-df-convert {\n",
              "      background-color: #3B4455;\n",
              "      fill: #D2E3FC;\n",
              "    }\n",
              "\n",
              "    [theme=dark] .colab-df-convert:hover {\n",
              "      background-color: #434B5C;\n",
              "      box-shadow: 0px 1px 3px 1px rgba(0, 0, 0, 0.15);\n",
              "      filter: drop-shadow(0px 1px 2px rgba(0, 0, 0, 0.3));\n",
              "      fill: #FFFFFF;\n",
              "    }\n",
              "  </style>\n",
              "\n",
              "      <script>\n",
              "        const buttonEl =\n",
              "          document.querySelector('#df-69daeea4-c785-4ece-96fc-22aa0ce8c4c6 button.colab-df-convert');\n",
              "        buttonEl.style.display =\n",
              "          google.colab.kernel.accessAllowed ? 'block' : 'none';\n",
              "\n",
              "        async function convertToInteractive(key) {\n",
              "          const element = document.querySelector('#df-69daeea4-c785-4ece-96fc-22aa0ce8c4c6');\n",
              "          const dataTable =\n",
              "            await google.colab.kernel.invokeFunction('convertToInteractive',\n",
              "                                                     [key], {});\n",
              "          if (!dataTable) return;\n",
              "\n",
              "          const docLinkHtml = 'Like what you see? Visit the ' +\n",
              "            '<a target=\"_blank\" href=https://colab.research.google.com/notebooks/data_table.ipynb>data table notebook</a>'\n",
              "            + ' to learn more about interactive tables.';\n",
              "          element.innerHTML = '';\n",
              "          dataTable['output_type'] = 'display_data';\n",
              "          await google.colab.output.renderOutput(dataTable, element);\n",
              "          const docLink = document.createElement('div');\n",
              "          docLink.innerHTML = docLinkHtml;\n",
              "          element.appendChild(docLink);\n",
              "        }\n",
              "      </script>\n",
              "    </div>\n",
              "  </div>\n",
              "  "
            ]
          },
          "metadata": {},
          "execution_count": 7
        }
      ]
    },
    {
      "cell_type": "code",
      "source": [
        "movie_dict = { row[0]: (row[1], set(row[2].lower().split('|'))) for row in movies.values}"
      ],
      "metadata": {
        "id": "SPT6PVwvswQI"
      },
      "execution_count": 8,
      "outputs": []
    },
    {
      "cell_type": "markdown",
      "source": [
        "## Load Ratings"
      ],
      "metadata": {
        "id": "pGmYnpFNn2bZ"
      }
    },
    {
      "cell_type": "code",
      "source": [
        "ratings = pd.read_csv(os.path.join(path_csv,'ratings.dat'), sep = \"::\", header=None, names = [\"UserID\",\"MovieID\",\"Rating\",\"Timestamp\"])"
      ],
      "metadata": {
        "colab": {
          "base_uri": "https://localhost:8080/"
        },
        "id": "OdYZagk0rYj8",
        "outputId": "5943cf6d-c876-4e6f-cdb9-08e33e9e7d32"
      },
      "execution_count": 9,
      "outputs": [
        {
          "output_type": "stream",
          "name": "stderr",
          "text": [
            "/usr/local/lib/python3.7/dist-packages/pandas/util/_decorators.py:311: ParserWarning: Falling back to the 'python' engine because the 'c' engine does not support regex separators (separators > 1 char and different from '\\s+' are interpreted as regex); you can avoid this warning by specifying engine='python'.\n",
            "  return func(*args, **kwargs)\n"
          ]
        }
      ]
    },
    {
      "cell_type": "code",
      "source": [
        "ratings"
      ],
      "metadata": {
        "colab": {
          "base_uri": "https://localhost:8080/",
          "height": 411
        },
        "id": "PVkhpeUvSL1h",
        "outputId": "6f92c117-7e29-4214-97e7-9bf08e7d47e9"
      },
      "execution_count": 10,
      "outputs": [
        {
          "output_type": "execute_result",
          "data": {
            "text/plain": [
              "         UserID  MovieID  Rating  Timestamp\n",
              "0             1     1193       5  978300760\n",
              "1             1      661       3  978302109\n",
              "2             1      914       3  978301968\n",
              "3             1     3408       4  978300275\n",
              "4             1     2355       5  978824291\n",
              "...         ...      ...     ...        ...\n",
              "1000204    6040     1091       1  956716541\n",
              "1000205    6040     1094       5  956704887\n",
              "1000206    6040      562       5  956704746\n",
              "1000207    6040     1096       4  956715648\n",
              "1000208    6040     1097       4  956715569\n",
              "\n",
              "[1000209 rows x 4 columns]"
            ],
            "text/html": [
              "\n",
              "  <div id=\"df-c09dbcbc-ea5a-4a3d-be6d-984639754500\">\n",
              "    <div class=\"colab-df-container\">\n",
              "      <div>\n",
              "<style scoped>\n",
              "    .dataframe tbody tr th:only-of-type {\n",
              "        vertical-align: middle;\n",
              "    }\n",
              "\n",
              "    .dataframe tbody tr th {\n",
              "        vertical-align: top;\n",
              "    }\n",
              "\n",
              "    .dataframe thead th {\n",
              "        text-align: right;\n",
              "    }\n",
              "</style>\n",
              "<table border=\"1\" class=\"dataframe\">\n",
              "  <thead>\n",
              "    <tr style=\"text-align: right;\">\n",
              "      <th></th>\n",
              "      <th>UserID</th>\n",
              "      <th>MovieID</th>\n",
              "      <th>Rating</th>\n",
              "      <th>Timestamp</th>\n",
              "    </tr>\n",
              "  </thead>\n",
              "  <tbody>\n",
              "    <tr>\n",
              "      <th>0</th>\n",
              "      <td>1</td>\n",
              "      <td>1193</td>\n",
              "      <td>5</td>\n",
              "      <td>978300760</td>\n",
              "    </tr>\n",
              "    <tr>\n",
              "      <th>1</th>\n",
              "      <td>1</td>\n",
              "      <td>661</td>\n",
              "      <td>3</td>\n",
              "      <td>978302109</td>\n",
              "    </tr>\n",
              "    <tr>\n",
              "      <th>2</th>\n",
              "      <td>1</td>\n",
              "      <td>914</td>\n",
              "      <td>3</td>\n",
              "      <td>978301968</td>\n",
              "    </tr>\n",
              "    <tr>\n",
              "      <th>3</th>\n",
              "      <td>1</td>\n",
              "      <td>3408</td>\n",
              "      <td>4</td>\n",
              "      <td>978300275</td>\n",
              "    </tr>\n",
              "    <tr>\n",
              "      <th>4</th>\n",
              "      <td>1</td>\n",
              "      <td>2355</td>\n",
              "      <td>5</td>\n",
              "      <td>978824291</td>\n",
              "    </tr>\n",
              "    <tr>\n",
              "      <th>...</th>\n",
              "      <td>...</td>\n",
              "      <td>...</td>\n",
              "      <td>...</td>\n",
              "      <td>...</td>\n",
              "    </tr>\n",
              "    <tr>\n",
              "      <th>1000204</th>\n",
              "      <td>6040</td>\n",
              "      <td>1091</td>\n",
              "      <td>1</td>\n",
              "      <td>956716541</td>\n",
              "    </tr>\n",
              "    <tr>\n",
              "      <th>1000205</th>\n",
              "      <td>6040</td>\n",
              "      <td>1094</td>\n",
              "      <td>5</td>\n",
              "      <td>956704887</td>\n",
              "    </tr>\n",
              "    <tr>\n",
              "      <th>1000206</th>\n",
              "      <td>6040</td>\n",
              "      <td>562</td>\n",
              "      <td>5</td>\n",
              "      <td>956704746</td>\n",
              "    </tr>\n",
              "    <tr>\n",
              "      <th>1000207</th>\n",
              "      <td>6040</td>\n",
              "      <td>1096</td>\n",
              "      <td>4</td>\n",
              "      <td>956715648</td>\n",
              "    </tr>\n",
              "    <tr>\n",
              "      <th>1000208</th>\n",
              "      <td>6040</td>\n",
              "      <td>1097</td>\n",
              "      <td>4</td>\n",
              "      <td>956715569</td>\n",
              "    </tr>\n",
              "  </tbody>\n",
              "</table>\n",
              "<p>1000209 rows × 4 columns</p>\n",
              "</div>\n",
              "      <button class=\"colab-df-convert\" onclick=\"convertToInteractive('df-c09dbcbc-ea5a-4a3d-be6d-984639754500')\"\n",
              "              title=\"Convert this dataframe to an interactive table.\"\n",
              "              style=\"display:none;\">\n",
              "        \n",
              "  <svg xmlns=\"http://www.w3.org/2000/svg\" height=\"24px\"viewBox=\"0 0 24 24\"\n",
              "       width=\"24px\">\n",
              "    <path d=\"M0 0h24v24H0V0z\" fill=\"none\"/>\n",
              "    <path d=\"M18.56 5.44l.94 2.06.94-2.06 2.06-.94-2.06-.94-.94-2.06-.94 2.06-2.06.94zm-11 1L8.5 8.5l.94-2.06 2.06-.94-2.06-.94L8.5 2.5l-.94 2.06-2.06.94zm10 10l.94 2.06.94-2.06 2.06-.94-2.06-.94-.94-2.06-.94 2.06-2.06.94z\"/><path d=\"M17.41 7.96l-1.37-1.37c-.4-.4-.92-.59-1.43-.59-.52 0-1.04.2-1.43.59L10.3 9.45l-7.72 7.72c-.78.78-.78 2.05 0 2.83L4 21.41c.39.39.9.59 1.41.59.51 0 1.02-.2 1.41-.59l7.78-7.78 2.81-2.81c.8-.78.8-2.07 0-2.86zM5.41 20L4 18.59l7.72-7.72 1.47 1.35L5.41 20z\"/>\n",
              "  </svg>\n",
              "      </button>\n",
              "      \n",
              "  <style>\n",
              "    .colab-df-container {\n",
              "      display:flex;\n",
              "      flex-wrap:wrap;\n",
              "      gap: 12px;\n",
              "    }\n",
              "\n",
              "    .colab-df-convert {\n",
              "      background-color: #E8F0FE;\n",
              "      border: none;\n",
              "      border-radius: 50%;\n",
              "      cursor: pointer;\n",
              "      display: none;\n",
              "      fill: #1967D2;\n",
              "      height: 32px;\n",
              "      padding: 0 0 0 0;\n",
              "      width: 32px;\n",
              "    }\n",
              "\n",
              "    .colab-df-convert:hover {\n",
              "      background-color: #E2EBFA;\n",
              "      box-shadow: 0px 1px 2px rgba(60, 64, 67, 0.3), 0px 1px 3px 1px rgba(60, 64, 67, 0.15);\n",
              "      fill: #174EA6;\n",
              "    }\n",
              "\n",
              "    [theme=dark] .colab-df-convert {\n",
              "      background-color: #3B4455;\n",
              "      fill: #D2E3FC;\n",
              "    }\n",
              "\n",
              "    [theme=dark] .colab-df-convert:hover {\n",
              "      background-color: #434B5C;\n",
              "      box-shadow: 0px 1px 3px 1px rgba(0, 0, 0, 0.15);\n",
              "      filter: drop-shadow(0px 1px 2px rgba(0, 0, 0, 0.3));\n",
              "      fill: #FFFFFF;\n",
              "    }\n",
              "  </style>\n",
              "\n",
              "      <script>\n",
              "        const buttonEl =\n",
              "          document.querySelector('#df-c09dbcbc-ea5a-4a3d-be6d-984639754500 button.colab-df-convert');\n",
              "        buttonEl.style.display =\n",
              "          google.colab.kernel.accessAllowed ? 'block' : 'none';\n",
              "\n",
              "        async function convertToInteractive(key) {\n",
              "          const element = document.querySelector('#df-c09dbcbc-ea5a-4a3d-be6d-984639754500');\n",
              "          const dataTable =\n",
              "            await google.colab.kernel.invokeFunction('convertToInteractive',\n",
              "                                                     [key], {});\n",
              "          if (!dataTable) return;\n",
              "\n",
              "          const docLinkHtml = 'Like what you see? Visit the ' +\n",
              "            '<a target=\"_blank\" href=https://colab.research.google.com/notebooks/data_table.ipynb>data table notebook</a>'\n",
              "            + ' to learn more about interactive tables.';\n",
              "          element.innerHTML = '';\n",
              "          dataTable['output_type'] = 'display_data';\n",
              "          await google.colab.output.renderOutput(dataTable, element);\n",
              "          const docLink = document.createElement('div');\n",
              "          docLink.innerHTML = docLinkHtml;\n",
              "          element.appendChild(docLink);\n",
              "        }\n",
              "      </script>\n",
              "    </div>\n",
              "  </div>\n",
              "  "
            ]
          },
          "metadata": {},
          "execution_count": 10
        }
      ]
    },
    {
      "cell_type": "markdown",
      "source": [
        "## Load Users"
      ],
      "metadata": {
        "id": "vTSK6Quvn6wZ"
      }
    },
    {
      "cell_type": "code",
      "source": [
        "users = pd.read_csv(os.path.join(path_csv,'users.dat'), sep = \"::\", header=None, names = [\"UserID\",\"Gender\",\"Age\",\"Occupation\",\"Zip-code\"]) "
      ],
      "metadata": {
        "colab": {
          "base_uri": "https://localhost:8080/"
        },
        "id": "6-T6Pm02rTWe",
        "outputId": "9ae09589-6b85-41b2-e2be-3f94acb08fd0"
      },
      "execution_count": 11,
      "outputs": [
        {
          "output_type": "stream",
          "name": "stderr",
          "text": [
            "/usr/local/lib/python3.7/dist-packages/pandas/util/_decorators.py:311: ParserWarning: Falling back to the 'python' engine because the 'c' engine does not support regex separators (separators > 1 char and different from '\\s+' are interpreted as regex); you can avoid this warning by specifying engine='python'.\n",
            "  return func(*args, **kwargs)\n"
          ]
        }
      ]
    },
    {
      "cell_type": "code",
      "source": [
        "users.head()"
      ],
      "metadata": {
        "colab": {
          "base_uri": "https://localhost:8080/",
          "height": 200
        },
        "id": "y28IuCNVm3qk",
        "outputId": "0b29972f-bb9d-45e1-cac0-6d02c6408d4c"
      },
      "execution_count": 12,
      "outputs": [
        {
          "output_type": "execute_result",
          "data": {
            "text/plain": [
              "   UserID Gender  Age  Occupation Zip-code\n",
              "0       1      F    1          10    48067\n",
              "1       2      M   56          16    70072\n",
              "2       3      M   25          15    55117\n",
              "3       4      M   45           7    02460\n",
              "4       5      M   25          20    55455"
            ],
            "text/html": [
              "\n",
              "  <div id=\"df-a54bd799-d849-4c80-b93e-164594d19b0d\">\n",
              "    <div class=\"colab-df-container\">\n",
              "      <div>\n",
              "<style scoped>\n",
              "    .dataframe tbody tr th:only-of-type {\n",
              "        vertical-align: middle;\n",
              "    }\n",
              "\n",
              "    .dataframe tbody tr th {\n",
              "        vertical-align: top;\n",
              "    }\n",
              "\n",
              "    .dataframe thead th {\n",
              "        text-align: right;\n",
              "    }\n",
              "</style>\n",
              "<table border=\"1\" class=\"dataframe\">\n",
              "  <thead>\n",
              "    <tr style=\"text-align: right;\">\n",
              "      <th></th>\n",
              "      <th>UserID</th>\n",
              "      <th>Gender</th>\n",
              "      <th>Age</th>\n",
              "      <th>Occupation</th>\n",
              "      <th>Zip-code</th>\n",
              "    </tr>\n",
              "  </thead>\n",
              "  <tbody>\n",
              "    <tr>\n",
              "      <th>0</th>\n",
              "      <td>1</td>\n",
              "      <td>F</td>\n",
              "      <td>1</td>\n",
              "      <td>10</td>\n",
              "      <td>48067</td>\n",
              "    </tr>\n",
              "    <tr>\n",
              "      <th>1</th>\n",
              "      <td>2</td>\n",
              "      <td>M</td>\n",
              "      <td>56</td>\n",
              "      <td>16</td>\n",
              "      <td>70072</td>\n",
              "    </tr>\n",
              "    <tr>\n",
              "      <th>2</th>\n",
              "      <td>3</td>\n",
              "      <td>M</td>\n",
              "      <td>25</td>\n",
              "      <td>15</td>\n",
              "      <td>55117</td>\n",
              "    </tr>\n",
              "    <tr>\n",
              "      <th>3</th>\n",
              "      <td>4</td>\n",
              "      <td>M</td>\n",
              "      <td>45</td>\n",
              "      <td>7</td>\n",
              "      <td>02460</td>\n",
              "    </tr>\n",
              "    <tr>\n",
              "      <th>4</th>\n",
              "      <td>5</td>\n",
              "      <td>M</td>\n",
              "      <td>25</td>\n",
              "      <td>20</td>\n",
              "      <td>55455</td>\n",
              "    </tr>\n",
              "  </tbody>\n",
              "</table>\n",
              "</div>\n",
              "      <button class=\"colab-df-convert\" onclick=\"convertToInteractive('df-a54bd799-d849-4c80-b93e-164594d19b0d')\"\n",
              "              title=\"Convert this dataframe to an interactive table.\"\n",
              "              style=\"display:none;\">\n",
              "        \n",
              "  <svg xmlns=\"http://www.w3.org/2000/svg\" height=\"24px\"viewBox=\"0 0 24 24\"\n",
              "       width=\"24px\">\n",
              "    <path d=\"M0 0h24v24H0V0z\" fill=\"none\"/>\n",
              "    <path d=\"M18.56 5.44l.94 2.06.94-2.06 2.06-.94-2.06-.94-.94-2.06-.94 2.06-2.06.94zm-11 1L8.5 8.5l.94-2.06 2.06-.94-2.06-.94L8.5 2.5l-.94 2.06-2.06.94zm10 10l.94 2.06.94-2.06 2.06-.94-2.06-.94-.94-2.06-.94 2.06-2.06.94z\"/><path d=\"M17.41 7.96l-1.37-1.37c-.4-.4-.92-.59-1.43-.59-.52 0-1.04.2-1.43.59L10.3 9.45l-7.72 7.72c-.78.78-.78 2.05 0 2.83L4 21.41c.39.39.9.59 1.41.59.51 0 1.02-.2 1.41-.59l7.78-7.78 2.81-2.81c.8-.78.8-2.07 0-2.86zM5.41 20L4 18.59l7.72-7.72 1.47 1.35L5.41 20z\"/>\n",
              "  </svg>\n",
              "      </button>\n",
              "      \n",
              "  <style>\n",
              "    .colab-df-container {\n",
              "      display:flex;\n",
              "      flex-wrap:wrap;\n",
              "      gap: 12px;\n",
              "    }\n",
              "\n",
              "    .colab-df-convert {\n",
              "      background-color: #E8F0FE;\n",
              "      border: none;\n",
              "      border-radius: 50%;\n",
              "      cursor: pointer;\n",
              "      display: none;\n",
              "      fill: #1967D2;\n",
              "      height: 32px;\n",
              "      padding: 0 0 0 0;\n",
              "      width: 32px;\n",
              "    }\n",
              "\n",
              "    .colab-df-convert:hover {\n",
              "      background-color: #E2EBFA;\n",
              "      box-shadow: 0px 1px 2px rgba(60, 64, 67, 0.3), 0px 1px 3px 1px rgba(60, 64, 67, 0.15);\n",
              "      fill: #174EA6;\n",
              "    }\n",
              "\n",
              "    [theme=dark] .colab-df-convert {\n",
              "      background-color: #3B4455;\n",
              "      fill: #D2E3FC;\n",
              "    }\n",
              "\n",
              "    [theme=dark] .colab-df-convert:hover {\n",
              "      background-color: #434B5C;\n",
              "      box-shadow: 0px 1px 3px 1px rgba(0, 0, 0, 0.15);\n",
              "      filter: drop-shadow(0px 1px 2px rgba(0, 0, 0, 0.3));\n",
              "      fill: #FFFFFF;\n",
              "    }\n",
              "  </style>\n",
              "\n",
              "      <script>\n",
              "        const buttonEl =\n",
              "          document.querySelector('#df-a54bd799-d849-4c80-b93e-164594d19b0d button.colab-df-convert');\n",
              "        buttonEl.style.display =\n",
              "          google.colab.kernel.accessAllowed ? 'block' : 'none';\n",
              "\n",
              "        async function convertToInteractive(key) {\n",
              "          const element = document.querySelector('#df-a54bd799-d849-4c80-b93e-164594d19b0d');\n",
              "          const dataTable =\n",
              "            await google.colab.kernel.invokeFunction('convertToInteractive',\n",
              "                                                     [key], {});\n",
              "          if (!dataTable) return;\n",
              "\n",
              "          const docLinkHtml = 'Like what you see? Visit the ' +\n",
              "            '<a target=\"_blank\" href=https://colab.research.google.com/notebooks/data_table.ipynb>data table notebook</a>'\n",
              "            + ' to learn more about interactive tables.';\n",
              "          element.innerHTML = '';\n",
              "          dataTable['output_type'] = 'display_data';\n",
              "          await google.colab.output.renderOutput(dataTable, element);\n",
              "          const docLink = document.createElement('div');\n",
              "          docLink.innerHTML = docLinkHtml;\n",
              "          element.appendChild(docLink);\n",
              "        }\n",
              "      </script>\n",
              "    </div>\n",
              "  </div>\n",
              "  "
            ]
          },
          "metadata": {},
          "execution_count": 12
        }
      ]
    },
    {
      "cell_type": "code",
      "source": [
        "movies.shape, ratings.shape, users.shape"
      ],
      "metadata": {
        "colab": {
          "base_uri": "https://localhost:8080/"
        },
        "id": "7zROMp37lz8C",
        "outputId": "8246f927-abde-4b9a-9587-69a9c985d76b"
      },
      "execution_count": 13,
      "outputs": [
        {
          "output_type": "execute_result",
          "data": {
            "text/plain": [
              "((3883, 3), (1000209, 4), (6040, 5))"
            ]
          },
          "metadata": {},
          "execution_count": 13
        }
      ]
    },
    {
      "cell_type": "code",
      "source": [
        "movie_ids = movies['MovieID'].unique()\n",
        "num_movie = len(movie_ids)\n",
        "user_ids = ratings['UserID'].unique()\n",
        "num_user = len(user_ids)\n",
        "\n",
        "def id_transform(ids):\n",
        "  id2idx, idx2id = {}, {}\n",
        "\n",
        "  for idx, item_id in enumerate(ids):\n",
        "      id2idx[item_id] = idx\n",
        "      idx2id[idx] = item_id\n",
        "\n",
        "  return id2idx, idx2id\n"
      ],
      "metadata": {
        "id": "qRvbygaftb76"
      },
      "execution_count": 14,
      "outputs": []
    },
    {
      "cell_type": "code",
      "source": [
        "movie_id2idx, movie_idx2id = id_transform(movie_ids)\n",
        "user_id2idx, user_idx2id = id_transform(user_ids)"
      ],
      "metadata": {
        "id": "AAM664x4u2jL"
      },
      "execution_count": 15,
      "outputs": []
    },
    {
      "cell_type": "markdown",
      "source": [
        "## Initial User-Item Matrix"
      ],
      "metadata": {
        "id": "gYCEW18YvZL1"
      }
    },
    {
      "cell_type": "code",
      "source": [
        "M = np.zeros((num_user, num_movie))\n",
        "\n",
        "print('The User-Item Matrix M has shape of {}'.format(M.shape))"
      ],
      "metadata": {
        "colab": {
          "base_uri": "https://localhost:8080/"
        },
        "id": "x7dyGvFpvfSi",
        "outputId": "8ec78e94-7f7a-442e-faab-5c22260d4292"
      },
      "execution_count": 16,
      "outputs": [
        {
          "output_type": "stream",
          "name": "stdout",
          "text": [
            "The User-Item Matrix M has shape of (6040, 3883)\n"
          ]
        }
      ]
    },
    {
      "cell_type": "code",
      "source": [
        "def ini_matrix(ratings, user_id2idx, movie_id2idx):\n",
        "  for index, row in ratings.iterrows():\n",
        "      user_id, movie_id, rating = row['UserID'], row['MovieID'], row['Rating']\n",
        "\n",
        "      user_idx = user_id2idx[user_id]\n",
        "      movie_idx = movie_id2idx[movie_id]\n",
        "      \n",
        "      M[user_idx][movie_idx] = rating\n",
        "  return M\n",
        "M = ini_matrix(ratings, user_id2idx, movie_id2idx)\n"
      ],
      "metadata": {
        "id": "OgCOkdzxxhAS"
      },
      "execution_count": 17,
      "outputs": []
    },
    {
      "cell_type": "code",
      "source": [
        "num_nonzero = np.count_nonzero(M > 0)\n",
        "percent_sparsity = num_nonzero / np.prod(M.shape) * 100\n",
        "\n",
        "print('Number of non-zero entries in M: {} (sparsity: {:.3f}%)'.format(num_nonzero, percent_sparsity))"
      ],
      "metadata": {
        "colab": {
          "base_uri": "https://localhost:8080/"
        },
        "id": "NwWqBVICyR_u",
        "outputId": "0cd30d00-e207-4c43-d6f4-f61a8ef39f92"
      },
      "execution_count": 18,
      "outputs": [
        {
          "output_type": "stream",
          "name": "stdout",
          "text": [
            "Number of non-zero entries in M: 1000209 (sparsity: 4.265%)\n"
          ]
        }
      ]
    },
    {
      "cell_type": "markdown",
      "source": [
        "## Split training and test set"
      ],
      "metadata": {
        "id": "NM_Zmtxm63c3"
      }
    },
    {
      "cell_type": "code",
      "source": [
        "def train_test_split(ratings):\n",
        "    ratings = ratings.T\n",
        "    test = np.zeros(ratings.shape)\n",
        "    train = ratings.copy()\n",
        "    for movie in range(ratings.shape[0]):\n",
        "      movie_nonzero = ratings[movie,:].nonzero()[0]\n",
        "      test_ratings = np.random.choice(movie_nonzero,size=round(0.1*len(movie_nonzero)),replace=False)\n",
        "      train[movie, test_ratings] = 0.\n",
        "      test[movie, test_ratings] = ratings[movie, test_ratings]\n",
        "        \n",
        "    assert(np.all((train * test) == 0)) \n",
        "    return train.T, test.T\n",
        "train, test = train_test_split(M)"
      ],
      "metadata": {
        "id": "Nbu5SI1vdLiu"
      },
      "execution_count": 19,
      "outputs": []
    },
    {
      "cell_type": "markdown",
      "metadata": {
        "id": "yCt659qPnI8a"
      },
      "source": [
        "\n",
        "\n",
        "# Tasks\n",
        "1. Implement a collaborative filtering algorithm (from scratch) on the MovieLens 1M Dataset available here.\n",
        "2. For evaluating your method, you will use a random training set containing 90% of the available ratings and\n",
        "will report the Root Mean Squared Error (RMSE) on the remaining 10%.\n",
        "3. You are encouraged to try several approaches and read the relevant recent literature on the problem. "
      ]
    },
    {
      "cell_type": "markdown",
      "source": [
        "## Tools"
      ],
      "metadata": {
        "id": "J44fBSqxalLe"
      }
    },
    {
      "cell_type": "markdown",
      "source": [
        "### Euclidean Similarity"
      ],
      "metadata": {
        "id": "YTqQy5Hnao1G"
      }
    },
    {
      "cell_type": "code",
      "source": [
        "def get_distance(data1, data2):\n",
        "  points = zip(data1, data2)\n",
        "  diffs_squared_distance = [pow(a - b, 2) for (a, b) in points]\n",
        "  return math.sqrt(sum(diffs_squared_distance))\n",
        "\n",
        "get_distance(M[0],M[1])"
      ],
      "metadata": {
        "colab": {
          "base_uri": "https://localhost:8080/"
        },
        "id": "CFGYuocSazSh",
        "outputId": "9532efde-b2fe-48ed-ed6f-c53bace92602"
      },
      "execution_count": null,
      "outputs": [
        {
          "output_type": "execute_result",
          "data": {
            "text/plain": [
              "51.0"
            ]
          },
          "metadata": {},
          "execution_count": 20
        }
      ]
    },
    {
      "cell_type": "code",
      "source": [
        "get_distance(M[1],M[6039])"
      ],
      "metadata": {
        "colab": {
          "base_uri": "https://localhost:8080/"
        },
        "id": "qMMLTP5BkQjY",
        "outputId": "54e0e632-0668-43e7-eff0-04ea6628b208"
      },
      "execution_count": null,
      "outputs": [
        {
          "output_type": "execute_result",
          "data": {
            "text/plain": [
              "73.61385739111897"
            ]
          },
          "metadata": {},
          "execution_count": 21
        }
      ]
    },
    {
      "cell_type": "markdown",
      "source": [
        "### Jaccard Similarity"
      ],
      "metadata": {
        "id": "G13MSAVAa5Lb"
      }
    },
    {
      "cell_type": "code",
      "source": [
        "user1 = M[0]!=0\n",
        "user2 = M[1]!=0\n",
        "\n",
        "def Jac_sim(x,y):\n",
        "\n",
        "  up = np.double(np.bitwise_and((x!=y),np.bitwise_or(x!=0,y!=0)).sum())\n",
        "  down = np.double(np.bitwise_or(x!=0,y!=0).sum())\n",
        "\n",
        "  return up/down\n",
        "\n",
        "Jac_sim(user1,user2)"
      ],
      "metadata": {
        "colab": {
          "base_uri": "https://localhost:8080/"
        },
        "id": "Yno4q7RizFIA",
        "outputId": "10496255-3dac-4dc3-8fd0-6a62bd585ed2"
      },
      "execution_count": null,
      "outputs": [
        {
          "output_type": "execute_result",
          "data": {
            "text/plain": [
              "0.96"
            ]
          },
          "metadata": {},
          "execution_count": 22
        }
      ]
    },
    {
      "cell_type": "code",
      "source": [
        "user3 = M[6039]!=0\n",
        "Jac_sim(user3,user2)"
      ],
      "metadata": {
        "colab": {
          "base_uri": "https://localhost:8080/"
        },
        "id": "H9kdLsZ1kWyU",
        "outputId": "1cdceff8-bc86-4233-f706-58f8ebbf26a5"
      },
      "execution_count": null,
      "outputs": [
        {
          "output_type": "execute_result",
          "data": {
            "text/plain": [
              "0.8888888888888888"
            ]
          },
          "metadata": {},
          "execution_count": 23
        }
      ]
    },
    {
      "cell_type": "markdown",
      "source": [
        "### Consine Similarity"
      ],
      "metadata": {
        "id": "7dieujWOecZ6"
      }
    },
    {
      "cell_type": "code",
      "source": [
        "cosine_similarity(np.matrix(M[0]),np.matrix(M[1]))"
      ],
      "metadata": {
        "colab": {
          "base_uri": "https://localhost:8080/"
        },
        "id": "uoYFAzJxefEc",
        "outputId": "8e9dd9a8-baa5-4b56-973e-0c2eeae24646"
      },
      "execution_count": null,
      "outputs": [
        {
          "output_type": "stream",
          "name": "stderr",
          "text": [
            "/usr/local/lib/python3.7/dist-packages/sklearn/utils/validation.py:598: FutureWarning: np.matrix usage is deprecated in 1.0 and will raise a TypeError in 1.2. Please convert to a numpy array with np.asarray. For more information see: https://numpy.org/doc/stable/reference/generated/numpy.matrix.html\n",
            "  FutureWarning,\n",
            "/usr/local/lib/python3.7/dist-packages/sklearn/utils/validation.py:598: FutureWarning: np.matrix usage is deprecated in 1.0 and will raise a TypeError in 1.2. Please convert to a numpy array with np.asarray. For more information see: https://numpy.org/doc/stable/reference/generated/numpy.matrix.html\n",
            "  FutureWarning,\n"
          ]
        },
        {
          "output_type": "execute_result",
          "data": {
            "text/plain": [
              "array([[0.09638153]])"
            ]
          },
          "metadata": {},
          "execution_count": 24
        }
      ]
    },
    {
      "cell_type": "code",
      "source": [
        "cosine_similarity(np.matrix(M[1]),np.matrix(M[6039]))"
      ],
      "metadata": {
        "colab": {
          "base_uri": "https://localhost:8080/"
        },
        "id": "lHGKgOSHlj7p",
        "outputId": "a02f740b-1abf-46d4-c847-fa8a64158492"
      },
      "execution_count": null,
      "outputs": [
        {
          "output_type": "stream",
          "name": "stderr",
          "text": [
            "/usr/local/lib/python3.7/dist-packages/sklearn/utils/validation.py:598: FutureWarning: np.matrix usage is deprecated in 1.0 and will raise a TypeError in 1.2. Please convert to a numpy array with np.asarray. For more information see: https://numpy.org/doc/stable/reference/generated/numpy.matrix.html\n",
            "  FutureWarning,\n",
            "/usr/local/lib/python3.7/dist-packages/sklearn/utils/validation.py:598: FutureWarning: np.matrix usage is deprecated in 1.0 and will raise a TypeError in 1.2. Please convert to a numpy array with np.asarray. For more information see: https://numpy.org/doc/stable/reference/generated/numpy.matrix.html\n",
            "  FutureWarning,\n"
          ]
        },
        {
          "output_type": "execute_result",
          "data": {
            "text/plain": [
              "array([[0.21827563]])"
            ]
          },
          "metadata": {},
          "execution_count": 25
        }
      ]
    },
    {
      "cell_type": "markdown",
      "source": [
        "### Pearson Correlation"
      ],
      "metadata": {
        "id": "MT1DWEuIgNjg"
      }
    },
    {
      "cell_type": "code",
      "source": [
        "np.corrcoef(M[0],M[1])"
      ],
      "metadata": {
        "colab": {
          "base_uri": "https://localhost:8080/"
        },
        "id": "pmvqebBpfduL",
        "outputId": "aee79824-e245-461e-da86-a8f31566763b"
      },
      "execution_count": null,
      "outputs": [
        {
          "output_type": "execute_result",
          "data": {
            "text/plain": [
              "array([[1.        , 0.07780405],\n",
              "       [0.07780405, 1.        ]])"
            ]
          },
          "metadata": {},
          "execution_count": 26
        }
      ]
    },
    {
      "cell_type": "code",
      "source": [
        "np.corrcoef(M[1],M[6039])"
      ],
      "metadata": {
        "colab": {
          "base_uri": "https://localhost:8080/"
        },
        "id": "LIX1Hjz9jsL7",
        "outputId": "85bfe6da-1441-4eab-f0e7-85684a16d9c2"
      },
      "execution_count": null,
      "outputs": [
        {
          "output_type": "execute_result",
          "data": {
            "text/plain": [
              "array([[1.        , 0.17862702],\n",
              "       [0.17862702, 1.        ]])"
            ]
          },
          "metadata": {},
          "execution_count": 27
        }
      ]
    },
    {
      "cell_type": "markdown",
      "source": [
        "### Mean rating scores*"
      ],
      "metadata": {
        "id": "4eBwBZz0EmjR"
      }
    },
    {
      "cell_type": "code",
      "source": [
        "masked = np.ma.masked_equal(M, 0)\n",
        "movie_mean_ratings = np.mean(masked, axis=0)\n",
        "user_mean_ratings = np.mean(masked, axis=1).reshape(-1, 1)"
      ],
      "metadata": {
        "id": "Bn25vjowElzI"
      },
      "execution_count": 31,
      "outputs": []
    },
    {
      "cell_type": "markdown",
      "source": [
        "### Min-Max Rescale*"
      ],
      "metadata": {
        "id": "JrSvY3cBQN1b"
      }
    },
    {
      "cell_type": "code",
      "source": [
        "def rescale_rating(a,max_rate, min_rate):\n",
        "  a_std = (a-np.min(a))/(np.max(a)-np.min(a))\n",
        "  a_scaled = a_std*(max_rate - min_rate) + min_rate\n",
        "  return a_scaled"
      ],
      "metadata": {
        "id": "BE4SQQHrQQ6d"
      },
      "execution_count": 22,
      "outputs": []
    },
    {
      "cell_type": "markdown",
      "source": [
        "### Evaluation Metric*"
      ],
      "metadata": {
        "id": "AGOGRUj4HJVQ"
      }
    },
    {
      "cell_type": "code",
      "source": [
        "def rmse(y_true, y_pred):\n",
        "  y_pred = y_pred[y_true.nonzero()].flatten()\n",
        "  y_true = y_true[y_true.nonzero()].flatten()\n",
        "  rmse = np.sqrt(mean_squared_error(y_true, y_pred))\n",
        "  scale = np.sqrt(np.mean(y_true**2))\n",
        "  return rmse"
      ],
      "metadata": {
        "id": "nfYLnVqAHVvx"
      },
      "execution_count": 23,
      "outputs": []
    },
    {
      "cell_type": "code",
      "source": [
        "def fast_rate(M,mode='user',sim_type='cos',top_k=50):\n",
        "  if mode == 'user':\n",
        "    u_sim = user_similarities.copy()\n",
        "    u_sim[u_sim<0]=0\n",
        "    if sim_type == 'cos':\n",
        "      index = np.argsort(u_sim,axis=1)[:,:-top_k]\n",
        "    elif sim_type == 'euc':\n",
        "      index = np.argsort(u_sim,axis=1)[:,top_k:]\n",
        "    for user_similarity, index_new in zip(u_sim,index):\n",
        "      user_similarity[index_new] = 0\n",
        "    return np.dot(u_sim,M)/np.array([np.abs(u_sim).sum(axis=1)-1]).T\n",
        "\n",
        "  elif mode == 'item':\n",
        "    item_sim = np.copy(movie_similarities)\n",
        "    item_sim[item_sim<0]=0\n",
        "    if sim_type == 'cos':\n",
        "      index = np.argsort(item_sim,axis=1)[:,:-top_k]\n",
        "    elif sim_type == 'euc':\n",
        "      index = np.argsort(item_sim,axis=1)[:,top_k:]\n",
        "    for movie_similarity, index_new in zip(item_sim,index):\n",
        "      movie_similarity[index_new] = 0\n",
        "\n",
        "    return (item_sim.dot(M.T)/(np.array([np.abs(item_sim).sum(axis=1)-1]).T)).T"
      ],
      "metadata": {
        "id": "B3j88gmkh09I"
      },
      "execution_count": 24,
      "outputs": []
    },
    {
      "cell_type": "markdown",
      "source": [
        "## Memory-Based"
      ],
      "metadata": {
        "id": "sbKBOiOwj54d"
      }
    },
    {
      "cell_type": "markdown",
      "source": [
        "### User-Based"
      ],
      "metadata": {
        "id": "KjLiYvS7oaaM"
      }
    },
    {
      "cell_type": "markdown",
      "source": [
        "#### Normalization of Ratings"
      ],
      "metadata": {
        "id": "i2f_GSojozuC"
      }
    },
    {
      "cell_type": "code",
      "source": [
        "u_M_normalized = M - user_mean_ratings\n",
        "u_M_normalized[M == 0] = 0"
      ],
      "metadata": {
        "id": "wFwkOrYpzL0H"
      },
      "execution_count": 60,
      "outputs": []
    },
    {
      "cell_type": "markdown",
      "source": [
        "#### User Similarities"
      ],
      "metadata": {
        "id": "sZyAnH2So5Y7"
      }
    },
    {
      "cell_type": "markdown",
      "source": [
        "Euclidean distance or similarity?"
      ],
      "metadata": {
        "id": "YEFN17QCCISw"
      }
    },
    {
      "cell_type": "code",
      "source": [
        "def get_sim(M_normalized,mode='euc'):\n",
        "  if mode == 'euc':\n",
        "    return np.reshape(np.sum(M_normalized**2,axis=1),(M_normalized.shape[0],1))+ np.sum(M_normalized**2,axis=1)-2*M_normalized.dot(M_normalized.T)\n",
        "  elif mode == 'cos':\n",
        "    return cosine_similarity(M_normalized, M_normalized)"
      ],
      "metadata": {
        "id": "BQh1-NBxJxjy"
      },
      "execution_count": 33,
      "outputs": []
    },
    {
      "cell_type": "code",
      "source": [
        "user_similarities = get_sim(u_M_normalized,mode='cos')"
      ],
      "metadata": {
        "id": "fqYJdpx5tvtD"
      },
      "execution_count": 34,
      "outputs": []
    },
    {
      "cell_type": "code",
      "source": [
        "def calculate_rating_user(user_idx, movie_idx, k=10):\n",
        "\n",
        "    ### Find all idx of neighbors (most similar users) having also rate this movie\n",
        "\n",
        "    neighbors = np.argsort(user_similarities[user_idx])[::-1]\n",
        "\n",
        "    ### Remove any neighbor who hasn't rated the movie\n",
        "    neighbors = [ n_idx for i, n_idx in enumerate(neighbors) if M[n_idx][movie_idx] != 0 and user_similarities[user_idx][n_idx] > 0]\n",
        "\n",
        "    ### Get the top-k neighbors\n",
        "    topk_neighbor_indices = neighbors[:k]\n",
        "\n",
        "\n",
        "    \n",
        "    ### Calculate weighted avarage ratings over the ratings given by the neighbors\n",
        "    \n",
        "    neighbor_similarities = user_similarities[user_idx][topk_neighbor_indices]\n",
        "\n",
        "    neighbor_ratings = M[topk_neighbor_indices][:,movie_idx]\n",
        "\n",
        "    ### Avoid corner cases (e.g., the movie hasn't been rated by anybody)\n",
        "    if np.sum(neighbor_similarities) == 0:\n",
        "        return 0.0\n",
        "\n",
        "    ### Return the weighted average rating as the predicted rating\n",
        "    return np.round(np.sum(neighbor_similarities * neighbor_ratings) / np.sum(neighbor_similarities), 2)\n",
        " "
      ],
      "metadata": {
        "id": "UhKbdE8W1hqa"
      },
      "execution_count": 35,
      "outputs": []
    },
    {
      "cell_type": "markdown",
      "source": [
        "### Item-Based"
      ],
      "metadata": {
        "id": "spgbjFYxocqM"
      }
    },
    {
      "cell_type": "markdown",
      "source": [
        "#### Normalization of Ratings"
      ],
      "metadata": {
        "id": "Rv8nRTUdpG3p"
      }
    },
    {
      "cell_type": "code",
      "source": [
        "i_M_normalized = M - movie_mean_ratings\n",
        "\n",
        "i_M_normalized[M == 0] = 0"
      ],
      "metadata": {
        "id": "xOtQKr1s10Nr"
      },
      "execution_count": 59,
      "outputs": []
    },
    {
      "cell_type": "markdown",
      "source": [
        "#### Item Similarities "
      ],
      "metadata": {
        "id": "voHZn-StpIzL"
      }
    },
    {
      "cell_type": "code",
      "source": [
        "movie_similarities = get_sim(i_M_normalized.T,mode='cos')"
      ],
      "metadata": {
        "id": "4yQXVWykKRvI"
      },
      "execution_count": 37,
      "outputs": []
    },
    {
      "cell_type": "code",
      "source": [
        "def calculate_rating_item(user_idx, movie_idx, k=10):\n",
        "\n",
        "    ### Find all idx of neighbors (most similar movies) having also been rated and sort them based on their similarties\n",
        "\n",
        "    neighbors = jnp.argsort(movie_similarities[movie_idx])[::-1]\n",
        "    \n",
        "    ### Remove any neighbor who hasn't been rated by the user\n",
        "\n",
        "    neighbors = [ n_idx for i, n_idx in enumerate(neighbors) if M[user_idx][n_idx] != 0 and movie_similarities[movie_idx][n_idx] > 0]\n",
        "\n",
        "    ### Get the top-k neighbors\n",
        "    topk_neighbor_indices = neighbors[:k]\n",
        "    \n",
        "    ### Calculate weighted avarage ratings over the ratings given by the neighbors\n",
        "\n",
        "    neighbor_similarities = movie_similarities[movie_idx][topk_neighbor_indices]\n",
        "    \n",
        "    neighbor_ratings = M[:,topk_neighbor_indices][user_idx]\n",
        "    \n",
        "    ### Avoid corner cases (e.g., the movie hasn't been rated by anybody)\n",
        "    if np.sum(neighbor_similarities) == 0:\n",
        "        return 0.0\n",
        "    \n",
        "    ### Return the weighted average rating as the predicted rating\n",
        "    return np.round(np.sum(neighbor_similarities * neighbor_ratings) / np.sum(neighbor_similarities), 3)      "
      ],
      "metadata": {
        "id": "5YtRKhED16kL"
      },
      "execution_count": 38,
      "outputs": []
    },
    {
      "cell_type": "markdown",
      "source": [
        "### Complete Rating Matrix"
      ],
      "metadata": {
        "id": "weYc8UQIpby8"
      }
    },
    {
      "cell_type": "code",
      "source": [
        "def rating_matrix(M,mode='user'):\n",
        "\n",
        "\n",
        "  M_predicted = np.copy(M)\n",
        "\n",
        "  num_zero = np.count_nonzero(M == 0)\n",
        "\n",
        "  print('Number of ratings to predict: {}'.format(num_zero))\n",
        "\n",
        "  cnt = 0.0\n",
        "  for user_idx in range(M_predicted.shape[0]):\n",
        "      \n",
        "      for movie_idx in range(M_predicted.shape[1]):\n",
        "          \n",
        "          # Ignore known ratings\n",
        "          if M_predicted[user_idx][movie_idx] > 0:\n",
        "              continue\n",
        "              \n",
        "          if mode == 'user':\n",
        "              M_predicted[user_idx][movie_idx] = calculate_rating_user(user_idx, movie_idx, k=25)   \n",
        "          elif mode == 'item':\n",
        "              M_predicted[user_idx][movie_idx] = calculate_rating_item(user_idx, movie_idx, k=25)\n",
        "              \n",
        "          cnt += 1\n",
        "      \n",
        "          if cnt % 10 == 0:\n",
        "              print('Done (%): {:.2f}'.format(100*cnt/num_zero), end='\\r')\n",
        "              \n",
        "  if mode == 'user':\n",
        "      with open('./drive/MyDrive/DSA4212/data/cf_user.npy', 'wb+') as f:\n",
        "          np.save(f, M_predicted)\n",
        "  elif mode == 'item':\n",
        "      with open('./drive/MyDrive/DSA4212/data/cf_item.npy', 'wb+') as f:\n",
        "          np.save(f, M_predicted)\n",
        "  return M_predicted\n"
      ],
      "metadata": {
        "id": "aeg5SH_i7fGi"
      },
      "execution_count": 39,
      "outputs": []
    },
    {
      "cell_type": "code",
      "source": [
        "def fast_rate(M,mode='user',sim_type='cos',top_k=50):\n",
        "  if mode == 'user':\n",
        "    u_sim = user_similarities.copy()\n",
        "    u_sim[u_sim<0]=0\n",
        "    if sim_type == 'cos':\n",
        "      index = np.argsort(u_sim,axis=1)[:,:-top_k]\n",
        "    elif sim_type == 'euc':\n",
        "      index = np.argsort(u_sim,axis=1)[:,top_k:]\n",
        "    for user_similarity, index_new in zip(u_sim,index):\n",
        "      user_similarity[index_new] = 0\n",
        "    return np.dot(u_sim,M)/np.array([np.abs(u_sim).sum(axis=1)-1]).T\n",
        "\n",
        "  elif mode == 'item':\n",
        "    item_sim = np.copy(movie_similarities)\n",
        "    item_sim[item_sim<0]=0\n",
        "    if sim_type == 'cos':\n",
        "      index = np.argsort(item_sim,axis=1)[:,:-top_k]\n",
        "    elif sim_type == 'euc':\n",
        "      index = np.argsort(item_sim,axis=1)[:,top_k:]\n",
        "    for movie_similarity, index_new in zip(item_sim,index):\n",
        "      movie_similarity[index_new] = 0\n",
        "\n",
        "    return (item_sim.dot(M.T)/(np.array([np.abs(item_sim).sum(axis=1)-1]).T)).T"
      ],
      "metadata": {
        "id": "1RDamm3g-YR2"
      },
      "execution_count": 65,
      "outputs": []
    },
    {
      "cell_type": "markdown",
      "source": [
        "## Model-Based"
      ],
      "metadata": {
        "id": "dRzJZTGtoPjv"
      }
    },
    {
      "cell_type": "markdown",
      "source": [
        "### Basic Matrix Factorization"
      ],
      "metadata": {
        "id": "E9AX_dixpouJ"
      }
    },
    {
      "cell_type": "code",
      "source": [
        "def loss(train, Z, W, H):\n",
        "    loss = 0.0\n",
        "    \n",
        "    loss = np.sum(np.square((train - np.dot(W, H)))[train != 0])\n",
        "\n",
        "    return loss / len(Z)"
      ],
      "metadata": {
        "id": "FHteFqMfnjiG"
      },
      "execution_count": 41,
      "outputs": []
    },
    {
      "cell_type": "code",
      "source": [
        "def matrix_fac(W, H, Z):\n",
        "    %%time\n",
        "    num_epochs = 20\n",
        "    learning_rate = 0.001\n",
        "    reg = 0.1\n",
        "    loss_history = []\n",
        "\n",
        "    for epoch in range(num_epochs):\n",
        "        for i, j in Z:        \n",
        "            u = W[i]\n",
        "            v = H[:,j]\n",
        "            \n",
        "            grad_u = 2 * v * (train[i,j] - np.dot(u, v)) - 2 * reg * u\n",
        "            grad_v = 2 * u * (train[i,j] - np.dot(u, v)) - 2 * reg * v\n",
        "            \n",
        "            W[i] += learning_rate * grad_u\n",
        "            H[:,j] += learning_rate * grad_v\n",
        "            \n",
        "        current_loss = loss(train, Z, W, H)\n",
        "        print('Finished epoch {} ({})'.format(epoch+1, current_loss))\n",
        "        loss_history.append(current_loss)\n",
        "        \n",
        "    return loss_history,W,H"
      ],
      "metadata": {
        "id": "Jg4odOFnnmc-"
      },
      "execution_count": 42,
      "outputs": []
    },
    {
      "cell_type": "markdown",
      "source": [
        "### SVD"
      ],
      "metadata": {
        "id": "fiREwzEcqxDz"
      }
    },
    {
      "cell_type": "code",
      "source": [
        "def randomUnitVector(n):\n",
        "    unnormalized = [normalvariate(0, 1) for _ in range(n)]\n",
        "    theNorm = sqrt(sum(x * x for x in unnormalized))\n",
        "    return [x / theNorm for x in unnormalized]\n",
        "\n",
        "\n",
        "def svd_1d(A, epsilon=1e-10):\n",
        "    ''' The one-dimensional SVD '''\n",
        "\n",
        "    n, m = A.shape\n",
        "    x = randomUnitVector(min(n,m))\n",
        "    lastV = None\n",
        "    currentV = x\n",
        "\n",
        "    if n > m:\n",
        "        B = np.dot(A.T, A)\n",
        "    else:\n",
        "        B = np.dot(A, A.T)\n",
        "\n",
        "    iterations = 0\n",
        "    while True:\n",
        "        iterations += 1\n",
        "        lastV = currentV\n",
        "        currentV = np.dot(B, lastV)\n",
        "        currentV = currentV / norm(currentV)\n",
        "\n",
        "        if abs(np.dot(currentV, lastV)) > 1 - epsilon:\n",
        "            print(\"converged in {} iterations!\".format(iterations))\n",
        "            return currentV\n",
        "\n",
        "\n",
        "def svd(A, k=10, epsilon=1e-10):\n",
        "    '''\n",
        "        Compute the singular value decomposition of a matrix A\n",
        "        using the power method. A is the input matrix, and k\n",
        "        is the number of singular values you wish to compute.\n",
        "        If k is None, this computes the full-rank decomposition.\n",
        "    '''\n",
        "    A = np.array(A, dtype=float)\n",
        "    n, m = A.shape\n",
        "    svdSoFar = []\n",
        "    if k is None:\n",
        "        k = min(n, m)\n",
        "\n",
        "    for i in range(k):\n",
        "        matrixFor1D = A.copy()\n",
        "\n",
        "        for singularValue, u, v in svdSoFar[:i]:\n",
        "            matrixFor1D -= singularValue * np.outer(u, v)\n",
        "\n",
        "        if n > m:\n",
        "            v = svd_1d(matrixFor1D, epsilon=epsilon)  # next singular vector\n",
        "            u_unnormalized = np.dot(A, v)\n",
        "            sigma = norm(u_unnormalized)  # next singular value\n",
        "            u = u_unnormalized / sigma\n",
        "        else:\n",
        "            u = svd_1d(matrixFor1D, epsilon=epsilon)  # next singular vector\n",
        "            v_unnormalized = np.dot(A.T, u)\n",
        "            sigma = norm(v_unnormalized)  # next singular value\n",
        "            v = v_unnormalized / sigma\n",
        "\n",
        "        svdSoFar.append((sigma, u, v))\n",
        "\n",
        "    singularValues, us, vs = [np.array(x) for x in zip(*svdSoFar)]\n",
        "    return singularValues, us.T, vs\n",
        "\n",
        "s, u, vt = svd(train, k=20)"
      ],
      "metadata": {
        "id": "w3RlRy85aaLi",
        "colab": {
          "base_uri": "https://localhost:8080/"
        },
        "outputId": "eed9dcba-9e8a-401a-851e-af6489a2c9a7"
      },
      "execution_count": 20,
      "outputs": [
        {
          "output_type": "stream",
          "name": "stdout",
          "text": [
            "converged in 7 iterations!\n",
            "converged in 40 iterations!\n",
            "converged in 45 iterations!\n",
            "converged in 41 iterations!\n",
            "converged in 128 iterations!\n",
            "converged in 70 iterations!\n",
            "converged in 41 iterations!\n",
            "converged in 169 iterations!\n",
            "converged in 77 iterations!\n",
            "converged in 52 iterations!\n",
            "converged in 103 iterations!\n",
            "converged in 76 iterations!\n",
            "converged in 296 iterations!\n",
            "converged in 164 iterations!\n",
            "converged in 185 iterations!\n",
            "converged in 83 iterations!\n",
            "converged in 106 iterations!\n",
            "converged in 170 iterations!\n",
            "converged in 205 iterations!\n",
            "converged in 777 iterations!\n"
          ]
        }
      ]
    },
    {
      "cell_type": "code",
      "source": [
        "s_diag = np.diag(s)\n",
        "UsV = np.dot(np.dot(u,s_diag),vt)\n",
        "UsV = rescale_rating(UsV, 5, 1)\n",
        "print('Singular Value Decomposition RMSE:'+str(rmse(test,UsV)))"
      ],
      "metadata": {
        "id": "9pde7044auJB",
        "colab": {
          "base_uri": "https://localhost:8080/"
        },
        "outputId": "771e2fcc-666c-4559-c3a7-656b7dc026ce"
      },
      "execution_count": 25,
      "outputs": [
        {
          "output_type": "stream",
          "name": "stdout",
          "text": [
            "Singular Value Decomposition RMSE:1.5689054429752953\n"
          ]
        }
      ]
    },
    {
      "cell_type": "markdown",
      "source": [
        "### SVD++"
      ],
      "metadata": {
        "id": "H5AryvwhbRxz"
      }
    },
    {
      "cell_type": "code",
      "source": [
        "class SVDPP:  \n",
        "    def __init__(self,mat,K=20):  \n",
        "        self.mat = np.array(mat)  \n",
        "        self.K = K  \n",
        "        self.bi = {}  \n",
        "        self.bu = {}  \n",
        "        self.qi = {}  \n",
        "        self.pu = {}  \n",
        "        self.avg = np.mean(self.mat[:,2])  \n",
        "        self.y = {}  \n",
        "        self.u_dict = {}  \n",
        "        for i in range(self.mat.shape[0]):\n",
        "            uid = self.mat[i,0]  \n",
        "            iid = self.mat[i,1]  \n",
        "            self.u_dict.setdefault(uid,[])  \n",
        "            self.u_dict[uid].append(iid)  \n",
        "            self.bi.setdefault(iid,0)  \n",
        "            self.bu.setdefault(uid,0)  \n",
        "            self.qi.setdefault(iid,np.random.random((self.K,1))/10*np.sqrt(self.K))  \n",
        "            self.pu.setdefault(uid,np.random.random((self.K,1))/10*np.sqrt(self.K))  \n",
        "            self.y.setdefault(iid,np.zeros((self.K,1))+.1)  \n",
        "    def predict(self,uid,iid):  # Predict function   \n",
        "        self.bi.setdefault(iid,0)  \n",
        "        self.bu.setdefault(uid,0)  \n",
        "        self.qi.setdefault(iid,np.zeros((self.K,1)))  \n",
        "        self.pu.setdefault(uid,np.zeros((self.K,1)))  \n",
        "        self.y.setdefault(uid,np.zeros((self.K,1)))  \n",
        "        self.u_dict.setdefault(uid,[])  \n",
        "        u_impl_prf,sqrt_Nu=self.getY(uid, iid)  \n",
        "        rating=self.avg+self.bi[iid]+self.bu[uid]+np.sum(self.qi[iid]*(self.pu[uid]+u_impl_prf)) # Predict rating\n",
        "        # Since ratings are between 1 and 5, the outliers are  \n",
        "        if rating > 5:  \n",
        "            rating = 5  \n",
        "        if rating < 1:  \n",
        "            rating = 1  \n",
        "        return rating  \n",
        "      \n",
        "    # calculate sqrt_Nu and ∑yj  \n",
        "    def getY(self,uid,iid):  \n",
        "        Nu = self.u_dict[uid]  \n",
        "        I_Nu = len(Nu)  \n",
        "        sqrt_Nu = np.sqrt(I_Nu)  \n",
        "        y_u = np.zeros((self.K,1))  \n",
        "        if I_Nu == 0:  \n",
        "            u_impl_prf = y_u  \n",
        "        else:  \n",
        "            for i in Nu:  \n",
        "                y_u += self.y[i]  \n",
        "            u_impl_prf = y_u / sqrt_Nu  \n",
        "          \n",
        "        return u_impl_prf, sqrt_Nu  \n",
        "      \n",
        "    def train(self, steps=30, gamma=0.04, Lambda=0.15):    #training function (hyperparameter step is the number of iterations)  \n",
        "        print('train data size',self.mat.shape)  \n",
        "        for step in range(steps):  \n",
        "            print('step', step+1, 'is running')  \n",
        "            KK = np.random.permutation(self.mat.shape[0]) # Stochastic Gradient Descent \n",
        "            rmse = 0.0  \n",
        "            for i in range(self.mat.shape[0]):  \n",
        "                j = KK[i]  \n",
        "                uid = self.mat[j,0]  \n",
        "                iid=self.mat[j,1]  \n",
        "                rating = self.mat[j,2]  \n",
        "                predict = self.predict(uid, iid)  \n",
        "                u_impl_prf,sqrt_Nu = self.getY(uid, iid)  \n",
        "                eui = rating - predict  \n",
        "                rmse += eui ** 2  \n",
        "                self.bu[uid] += gamma * (eui-Lambda*self.bu[uid])    \n",
        "                self.bi[iid] += gamma * (eui-Lambda*self.bi[iid])  \n",
        "                self.pu[uid] += gamma * (eui*self.qi[iid]-Lambda*self.pu[uid])  \n",
        "                self.qi[iid] += gamma * (eui*(self.pu[uid]+u_impl_prf)-Lambda*self.qi[iid])  \n",
        "                for j in self.u_dict[uid]:  \n",
        "                    self.y[j] += gamma * (eui*self.qi[j]/sqrt_Nu-Lambda*self.y[j])  \n",
        "                                      \n",
        "            gamma = 0.93 * gamma  \n",
        "            print('rmse is', np.sqrt(rmse/self.mat.shape[0]))  \n",
        "      \n",
        "    def test(self,test_data):  #gamma decreased by a learning rate 0.93\n",
        "          \n",
        "        test_data = np.array(test_data)  \n",
        "        print('test data size', test_data.shape)  \n",
        "        rmse = 0.0\n",
        "        for i in range(test_data.shape[0]):  \n",
        "            uid = test_data[i,0]  \n",
        "            iid = test_data[i,1]  \n",
        "            rating = test_data[i,2]  \n",
        "            eui = rating - self.predict(uid, iid)  \n",
        "            rmse += eui ** 2  \n",
        "        print('rmse of test data is', np.sqrt(rmse/test_data.shape[0]))  \n",
        "      \n",
        "      \n",
        "def getData(file_name='/content/drive/MyDrive/DSA4212_Assignment2/ml-1m/ratings.dat'): \n",
        "    \"\"\"\n",
        "    Get training set and test set from raw data files\n",
        "    \"\"\"  \n",
        "    data = [] \n",
        "    with open(os.path.expanduser(file_name)) as f:                          \n",
        "        for line in f.readlines():  \n",
        "            list = line.split('::')  \n",
        "            data.append([int(i) for i in list[:3]])  \n",
        "    random.shuffle(data)  \n",
        "    train_data = data[:int(len(data)*9/10)]  \n",
        "    test_data = data[int(len(data)*9/10):]  \n",
        "    print('load data finished')  \n",
        "    print('total data ',len(data))  \n",
        "    return train_data, test_data  \n",
        "      \n",
        "train_data, test_data = getData()  \n",
        "a = SVDPP(train_data, 10)    \n",
        "a.train()  \n",
        "a.test(test_data)"
      ],
      "metadata": {
        "id": "ja2TYWombS2p"
      },
      "execution_count": null,
      "outputs": []
    },
    {
      "cell_type": "markdown",
      "source": [
        "## Content-Based"
      ],
      "metadata": {
        "id": "B9ll2ybBY0-M"
      }
    },
    {
      "cell_type": "markdown",
      "source": [
        "### User Profile Similarity"
      ],
      "metadata": {
        "id": "Hbzmw1WUY5V7"
      }
    },
    {
      "cell_type": "code",
      "source": [
        "# Building the Movie Profiles\n",
        "all_genres = set()\n",
        "\n",
        "for movie_id, movie_data in movie_dict.items():\n",
        "    all_genres.update(movie_data[1])\n",
        "    \n",
        "all_genres = sorted(all_genres)    \n",
        "     \n",
        "print('Number of movie genres: {}\\n'.format(len(all_genres)))\n",
        "print(all_genres)"
      ],
      "metadata": {
        "colab": {
          "base_uri": "https://localhost:8080/"
        },
        "id": "vYC1HdNEY45U",
        "outputId": "e6ed51b0-1c4f-4142-ae73-f21c7f804ded"
      },
      "execution_count": 76,
      "outputs": [
        {
          "output_type": "stream",
          "name": "stdout",
          "text": [
            "Number of movie genres: 18\n",
            "\n",
            "['action', 'adventure', 'animation', \"children's\", 'comedy', 'crime', 'documentary', 'drama', 'fantasy', 'film-noir', 'horror', 'musical', 'mystery', 'romance', 'sci-fi', 'thriller', 'war', 'western']\n"
          ]
        }
      ]
    },
    {
      "cell_type": "code",
      "source": [
        "# encoding\n",
        "def one_hot_encode_genres(all_genres, movie_genres):\n",
        "    v = np.zeros((len(all_genres, )))\n",
        "    for idx, genre in enumerate(all_genres):\n",
        "        if genre in movie_genres:\n",
        "            v[idx] = 1\n",
        "    return v\n",
        "\n",
        "one_hot_encode_genres(all_genres, {'comedy', 'sci-fi'})"
      ],
      "metadata": {
        "colab": {
          "base_uri": "https://localhost:8080/"
        },
        "id": "hpfUl5ZAZ0-O",
        "outputId": "1ef320db-754e-4b23-f4b1-c23480dbfcb8"
      },
      "execution_count": 77,
      "outputs": [
        {
          "output_type": "execute_result",
          "data": {
            "text/plain": [
              "array([0., 0., 0., 0., 1., 0., 0., 0., 0., 0., 0., 0., 0., 0., 1., 0., 0.,\n",
              "       0.])"
            ]
          },
          "metadata": {},
          "execution_count": 77
        }
      ]
    },
    {
      "cell_type": "code",
      "source": [
        "movie_profiles = np.zeros((num_movie, len(all_genres)))\n",
        "\n",
        "for movie_id, movie_data in movie_dict.items():\n",
        "    genre_vector = one_hot_encode_genres(all_genres, movie_data[1])\n",
        "    movie_profiles[movie_id2idx[movie_id]] = genre_vector"
      ],
      "metadata": {
        "id": "GIxnJF9BZ81L"
      },
      "execution_count": 78,
      "outputs": []
    },
    {
      "cell_type": "code",
      "source": [
        "def eu_dist(X, Y):\n",
        "  return  np.reshape(np.sum(X**2,axis=1),(X.shape[0],1))+ np.sum(Y**2,axis=1)-2*X.dot(Y.T)"
      ],
      "metadata": {
        "id": "paOul5bQaWCd"
      },
      "execution_count": 84,
      "outputs": []
    },
    {
      "cell_type": "code",
      "source": [
        "# user-item similarity\n",
        "user_profiles = np.zeros((num_user, movie_profiles.shape[1]))\n",
        "print(user_profiles.shape)\n",
        "\n",
        "masked = np.ma.masked_equal(M, 0)\n",
        "user_mean_rankings = masked.mean(axis=1).reshape(-1, 1)"
      ],
      "metadata": {
        "colab": {
          "base_uri": "https://localhost:8080/"
        },
        "id": "pejk46cFaa1I",
        "outputId": "24b17766-5a6f-4566-f41b-7383649197e8"
      },
      "execution_count": 79,
      "outputs": [
        {
          "output_type": "stream",
          "name": "stdout",
          "text": [
            "(6040, 18)\n"
          ]
        }
      ]
    },
    {
      "cell_type": "code",
      "source": [
        "min_rating_count = 10\n",
        "for user_idx in range(num_user):\n",
        "    rated_movies_indices = np.where(M[user_idx] != 0)[0]\n",
        "    rated_movie_profiles = movie_profiles[rated_movies_indices]\n",
        "\n",
        "\n",
        "    invalid_feature_indices = np.where(np.count_nonzero(rated_movie_profiles, axis=0) < min_rating_count)\n",
        "    rated_movie_profiles[:,invalid_feature_indices] = 0\n",
        "    ratings = M[user_idx][rated_movies_indices]    \n",
        "\n",
        "    ratings_normalized = ratings - user_mean_rankings[user_idx]\n",
        "    ratings_repeated = np.repeat(ratings_normalized, len(all_genres)).reshape(-1, len(all_genres))\n",
        "    r  = ratings_repeated * rated_movie_profiles\n",
        "    counts = np.sum(rated_movie_profiles, axis=0)\n",
        "    \n",
        "\n",
        "    user_profile = np.sum(r, axis=0) / counts\n",
        "    user_profile = np.ma.fix_invalid(user_profile, copy=True, fill_value=0).data\n",
        "    user_profiles[user_idx] = user_profile"
      ],
      "metadata": {
        "id": "HcOCijnsfKco"
      },
      "execution_count": 80,
      "outputs": []
    },
    {
      "cell_type": "markdown",
      "source": [
        "#### User Similarity(cosine)"
      ],
      "metadata": {
        "id": "QwsL7jvhfc5X"
      }
    },
    {
      "cell_type": "code",
      "source": [
        "user_similarities = cosine_similarity(user_profiles, user_profiles)\n",
        "print(user_similarities.shape)"
      ],
      "metadata": {
        "colab": {
          "base_uri": "https://localhost:8080/"
        },
        "id": "-wLh6VMrfcQX",
        "outputId": "8cba65f8-5415-4fe7-ebf4-384ebe335bf8"
      },
      "execution_count": 81,
      "outputs": [
        {
          "output_type": "stream",
          "name": "stdout",
          "text": [
            "(6040, 6040)\n"
          ]
        }
      ]
    },
    {
      "cell_type": "code",
      "source": [
        "user_M_predicted = fast_rate(train,mode='user',top_k=25)\n",
        "M_predicted_scale = rescale_rating(user_M_predicted,5,1)\n",
        "print('Item-based CF RMSE:'+str(rmse(test,M_predicted_scale)))"
      ],
      "metadata": {
        "colab": {
          "base_uri": "https://localhost:8080/"
        },
        "id": "zi26ZYYjipkP",
        "outputId": "3570d254-b111-45b2-e1cb-611bea729be7"
      },
      "execution_count": 82,
      "outputs": [
        {
          "output_type": "stream",
          "name": "stdout",
          "text": [
            "Item-based CF RMSE:2.2535741190302514\n"
          ]
        }
      ]
    },
    {
      "cell_type": "markdown",
      "source": [
        "#### User Similarity(Euclidean) "
      ],
      "metadata": {
        "id": "KX2uuxQ3fjM9"
      }
    },
    {
      "cell_type": "code",
      "source": [
        "user_similarities = eu_dist(user_profiles, user_profiles)\n",
        "print(user_similarities.shape)"
      ],
      "metadata": {
        "colab": {
          "base_uri": "https://localhost:8080/"
        },
        "id": "X7Osgf5hfn0u",
        "outputId": "7f2fbdbb-aeb2-4529-cc41-2a7d39de83b4"
      },
      "execution_count": 85,
      "outputs": [
        {
          "output_type": "stream",
          "name": "stdout",
          "text": [
            "(6040, 6040)\n"
          ]
        }
      ]
    },
    {
      "cell_type": "code",
      "source": [
        "user_M_predicted = fast_rate(train,mode='user',sim_type='euc',top_k=25)\n",
        "M_predicted_scale = rescale_rating(user_M_predicted,5,1)\n",
        "print('Item-based CF RMSE:'+str(rmse(test,M_predicted_scale)))"
      ],
      "metadata": {
        "colab": {
          "base_uri": "https://localhost:8080/"
        },
        "id": "7QMp2MXhiwc4",
        "outputId": "1fe9b9a2-4bf0-4b12-81b0-c1343a9a7eb6"
      },
      "execution_count": 86,
      "outputs": [
        {
          "output_type": "stream",
          "name": "stdout",
          "text": [
            "Item-based CF RMSE:1.8845846705766318\n"
          ]
        }
      ]
    },
    {
      "cell_type": "markdown",
      "source": [
        "### Movie Profile Similarity (TF-IDF)"
      ],
      "metadata": {
        "id": "SnQbfZnzglp0"
      }
    },
    {
      "cell_type": "code",
      "source": [
        "def IDF(corpus, unique_words):\n",
        "   idf_dict = {}\n",
        "   N = len(corpus)\n",
        "   for i in unique_words:\n",
        "     count = 0\n",
        "     for sen in corpus:\n",
        "       if i in sen.split():\n",
        "         count = count + 1\n",
        "       idf_dict[i] = (math.log((1+N)/(count+1)))+1\n",
        "   return idf_dict\n",
        "\n",
        "def fit(whole_data):\n",
        "    unique_words = set()\n",
        "    if isinstance(whole_data, (list,)):\n",
        "      for x in whole_data:\n",
        "        for y in x.split():\n",
        "          if len(y) < 2:\n",
        "            continue\n",
        "          unique_words.add(y)\n",
        "      unique_words = sorted(list(unique_words))\n",
        "      vocab = {j:i for i,j in enumerate(unique_words)}\n",
        "      Idf_values_of_all_unique_words = IDF(whole_data,unique_words)\n",
        "    return vocab, Idf_values_of_all_unique_words\n",
        "\n",
        "\n",
        "def transform(dataset, vocabulary, idf_values):\n",
        "     sparse_matrix = csr_matrix((len(dataset), len(vocabulary)), dtype=np.float64)\n",
        "     for row in range(0, len(dataset)):\n",
        "       number_of_words_in_sentence = Counter(dataset[row].split())\n",
        "       for word in dataset[row].split():\n",
        "           if word in list(vocabulary.keys()):\n",
        "               tf_idf_value = (number_of_words_in_sentence[word]/len(dataset[row].split())) * (idf_values[word])\n",
        "               sparse_matrix[row,vocabulary[word]] = tf_idf_value\n",
        "    #  print(\"NORM FORM\\n\", normalize(sparse_matrix, norm='l2', axis=1, copy=True, return_norm=False))\n",
        "     output = normalize(sparse_matrix, norm='l2', axis=1, copy=True, return_norm=False)\n",
        "     return output\n",
        "\n",
        "corpus = movies[\"Genres\"].tolist()\n",
        "corpus = [sentence.replace(\"|\", \" \") for sentence in corpus]\n",
        "Vocabulary, idf_of_vocabulary = fit(corpus)\n",
        "final_output = transform(corpus,Vocabulary, idf_of_vocabulary)\n",
        "print(\"Shape of final output from TF-IDF:\", final_output.shape)"
      ],
      "metadata": {
        "id": "fk34MlTKgrEA",
        "colab": {
          "base_uri": "https://localhost:8080/"
        },
        "outputId": "bb6c807d-64c2-48a1-8484-d71b06a574c1"
      },
      "execution_count": 26,
      "outputs": [
        {
          "output_type": "stream",
          "name": "stderr",
          "text": [
            "/usr/local/lib/python3.7/dist-packages/scipy/sparse/_index.py:84: SparseEfficiencyWarning: Changing the sparsity structure of a csr_matrix is expensive. lil_matrix is more efficient.\n",
            "  self._set_intXint(row, col, x.flat[0])\n"
          ]
        },
        {
          "output_type": "stream",
          "name": "stdout",
          "text": [
            "Shape of final output from TF-IDF: (3883, 18)\n"
          ]
        }
      ]
    },
    {
      "cell_type": "code",
      "source": [
        "movie_similarities = cosine_similarity(final_output, final_output)\n",
        "movie_similarities"
      ],
      "metadata": {
        "id": "1pD7KI_Sg2oK",
        "colab": {
          "base_uri": "https://localhost:8080/"
        },
        "outputId": "e1313f37-5b06-4bcd-825d-c0e0403b43a7"
      },
      "execution_count": 27,
      "outputs": [
        {
          "output_type": "execute_result",
          "data": {
            "text/plain": [
              "array([[1.        , 0.30552517, 0.19737232, ..., 0.        , 0.        ,\n",
              "        0.        ],\n",
              "       [0.30552517, 1.        , 0.        , ..., 0.        , 0.        ,\n",
              "        0.        ],\n",
              "       [0.19737232, 0.        , 1.        , ..., 0.        , 0.        ,\n",
              "        0.        ],\n",
              "       ...,\n",
              "       [0.        , 0.        , 0.        , ..., 1.        , 1.        ,\n",
              "        0.52384694],\n",
              "       [0.        , 0.        , 0.        , ..., 1.        , 1.        ,\n",
              "        0.52384694],\n",
              "       [0.        , 0.        , 0.        , ..., 0.52384694, 0.52384694,\n",
              "        1.        ]])"
            ]
          },
          "metadata": {},
          "execution_count": 27
        }
      ]
    },
    {
      "cell_type": "code",
      "source": [
        "M_predicted_tfidf = fast_rate(M, mode='item')\n",
        "M_predicted_tfidf = rescale_rating(M_predicted_tfidf, 5, 1)\n",
        "M_predicted_tfidf"
      ],
      "metadata": {
        "id": "zz7bYy8Tg6Is",
        "colab": {
          "base_uri": "https://localhost:8080/"
        },
        "outputId": "989c7634-6e7a-45a0-8ddf-6c4d164273f2"
      },
      "execution_count": 28,
      "outputs": [
        {
          "output_type": "execute_result",
          "data": {
            "text/plain": [
              "array([[1.6439927 , 1.06628502, 1.        , ..., 1.        , 1.        ,\n",
              "        1.        ],\n",
              "       [1.        , 1.        , 1.07717788, ..., 1.        , 1.        ,\n",
              "        1.27012257],\n",
              "       [1.16441532, 1.07030173, 1.        , ..., 1.        , 1.        ,\n",
              "        1.05788341],\n",
              "       ...,\n",
              "       [1.        , 1.        , 1.        , ..., 1.        , 1.        ,\n",
              "        1.        ],\n",
              "       [1.06684116, 1.06628502, 1.2508281 , ..., 1.        , 1.        ,\n",
              "        1.07717788],\n",
              "       [1.1438634 , 1.06628502, 1.23153363, ..., 1.        , 1.        ,\n",
              "        1.34730044]])"
            ]
          },
          "metadata": {},
          "execution_count": 28
        }
      ]
    },
    {
      "cell_type": "code",
      "source": [
        "print('TF-IDF RMSE:'+str(rmse(test,M_predicted_tfidf)))"
      ],
      "metadata": {
        "id": "8uvhkDPcg9f-",
        "colab": {
          "base_uri": "https://localhost:8080/"
        },
        "outputId": "c77c90b8-5a2c-4868-a24d-87509865a156"
      },
      "execution_count": 29,
      "outputs": [
        {
          "output_type": "stream",
          "name": "stdout",
          "text": [
            "TF-IDF RMSE:2.3525140934248476\n"
          ]
        }
      ]
    },
    {
      "cell_type": "markdown",
      "source": [
        "## Ablation Study"
      ],
      "metadata": {
        "id": "IYxcEE-GQkrg"
      }
    },
    {
      "cell_type": "markdown",
      "source": [
        "### cosine_similarity, User/Item, choose *top_k*"
      ],
      "metadata": {
        "id": "gxe0iajGn97v"
      }
    },
    {
      "cell_type": "code",
      "source": [
        "M_normalized = M - user_mean_ratings\n",
        "\n",
        "M_normalized[M == 0] = 0\n",
        "\n",
        "user_similarities = cosine_similarity(M_normalized, M_normalized)"
      ],
      "metadata": {
        "id": "q0rY15NevPfO"
      },
      "execution_count": null,
      "outputs": []
    },
    {
      "cell_type": "code",
      "source": [
        "M_normalized = M - movie_mean_ratings\n",
        "\n",
        "M_normalized[M == 0] = 0\n",
        "\n",
        "movie_similarities = cosine_similarity(M_normalized.T, M_normalized.T)"
      ],
      "metadata": {
        "id": "2f0H3S-Dj-1J"
      },
      "execution_count": null,
      "outputs": []
    },
    {
      "cell_type": "code",
      "source": [
        "top_k_list = [50, 100, 150, 200, 250, 300, 350, 400, 450, 500]\n",
        "rmse_history = []\n",
        "\n",
        "for top_k in top_k_list:\n",
        "    print(\"************ top_k=\" + str(top_k) + \" **************\")\n",
        "    M_predicted = fast_rate(train, mode='user', sim_type='cos', top_k=top_k)\n",
        "    M_predicted = rescale_rating(M_predicted, 5, 1)\n",
        "    current_rmse = rmse(test, M_predicted)\n",
        "    print('User-based CF RMSE:'+str(current_rmse))\n",
        "    rmse_history.append(current_rmse)\n",
        "\n",
        "plt.figure(figsize=(10,5))\n",
        "plt.plot(top_k_list, rmse_history, marker='o')\n",
        "plt.title(\"User-based CF RMSE vs top_k (Consine Similarity)\")\n",
        "plt.xlabel(\"top_k\")\n",
        "plt.ylabel(\"RMSE\")\n",
        "plt.legend()\n",
        "plt.show()"
      ],
      "metadata": {
        "colab": {
          "base_uri": "https://localhost:8080/",
          "height": 726
        },
        "id": "2Au5RypGkdOT",
        "outputId": "aa0404f3-6153-4f8f-846b-67df697805c9"
      },
      "execution_count": null,
      "outputs": [
        {
          "output_type": "stream",
          "name": "stdout",
          "text": [
            "************ top_k=50 **************\n",
            "User-based CF RMSE:2.076241856306878\n",
            "************ top_k=100 **************\n",
            "User-based CF RMSE:2.0424309884146337\n",
            "************ top_k=150 **************\n",
            "User-based CF RMSE:1.9951760581788403\n",
            "************ top_k=200 **************\n",
            "User-based CF RMSE:1.9795006713972387\n",
            "************ top_k=250 **************\n",
            "User-based CF RMSE:1.9856814356844317\n",
            "************ top_k=300 **************\n",
            "User-based CF RMSE:1.9880168061443346\n",
            "************ top_k=350 **************\n",
            "User-based CF RMSE:1.9939787565816536\n",
            "************ top_k=400 **************\n",
            "User-based CF RMSE:2.0075931296392504\n",
            "************ top_k=450 **************\n",
            "User-based CF RMSE:2.0152990751376145\n",
            "************ top_k=500 **************\n"
          ]
        },
        {
          "output_type": "stream",
          "name": "stderr",
          "text": [
            "No handles with labels found to put in legend.\n"
          ]
        },
        {
          "output_type": "stream",
          "name": "stdout",
          "text": [
            "User-based CF RMSE:2.0201337814254177\n"
          ]
        },
        {
          "output_type": "display_data",
          "data": {
            "text/plain": [
              "<Figure size 720x360 with 1 Axes>"
            ],
            "image/png": "[encoded data removed]"
          },
          "metadata": {
            "needs_background": "light"
          }
        }
      ]
    },
    {
      "cell_type": "code",
      "source": [
        "top_k_list = [5, 10, 15, 20, 25, 50, 75, 100]\n",
        "rmse_history = []\n",
        "\n",
        "for top_k in top_k_list:\n",
        "    print(\"************ top_k=\" + str(top_k) + \" **************\")\n",
        "    M_predicted = fast_rate(train, mode='item', sim_type='cos', top_k=top_k)\n",
        "    M_predicted = rescale_rating(M_predicted, 5, 1)\n",
        "    current_rmse = rmse(test, M_predicted)\n",
        "    print('Item-based CF RMSE:'+str(current_rmse))\n",
        "    rmse_history.append(current_rmse)\n",
        "\n",
        "plt.figure(figsize=(10,5))\n",
        "plt.plot(top_k_list, rmse_history, marker='o')\n",
        "plt.title(\"Item-based CF RMSE vs top_k (Consine Similarity)\")\n",
        "plt.xlabel(\"top_k\")\n",
        "plt.ylabel(\"RMSE\")\n",
        "plt.legend()\n",
        "plt.show()"
      ],
      "metadata": {
        "colab": {
          "base_uri": "https://localhost:8080/",
          "height": 654
        },
        "id": "SZUTvtVzk7px",
        "outputId": "107516bb-8edf-4d97-e5a6-7b0eaf20d6bc"
      },
      "execution_count": null,
      "outputs": [
        {
          "output_type": "stream",
          "name": "stdout",
          "text": [
            "************ top_k=5 **************\n",
            "Item-based CF RMSE:2.5524758213857743\n",
            "************ top_k=10 **************\n",
            "Item-based CF RMSE:2.3948507615920813\n",
            "************ top_k=15 **************\n",
            "Item-based CF RMSE:2.290968953724573\n",
            "************ top_k=20 **************\n",
            "Item-based CF RMSE:2.266957084893248\n",
            "************ top_k=25 **************\n",
            "Item-based CF RMSE:2.2391776819425475\n",
            "************ top_k=50 **************\n",
            "Item-based CF RMSE:2.2645220178980687\n",
            "************ top_k=75 **************\n",
            "Item-based CF RMSE:2.289898264952132\n",
            "************ top_k=100 **************\n"
          ]
        },
        {
          "output_type": "stream",
          "name": "stderr",
          "text": [
            "No handles with labels found to put in legend.\n"
          ]
        },
        {
          "output_type": "stream",
          "name": "stdout",
          "text": [
            "Item-based CF RMSE:2.3091708456405873\n"
          ]
        },
        {
          "output_type": "display_data",
          "data": {
            "text/plain": [
              "<Figure size 720x360 with 1 Axes>"
            ],
            "image/png": "[encoded data removed]"
          },
          "metadata": {
            "needs_background": "light"
          }
        }
      ]
    },
    {
      "cell_type": "markdown",
      "source": [
        "### euclidean similarity, User/Item, choose *top_k*"
      ],
      "metadata": {
        "id": "nalaaRzyoPYy"
      }
    },
    {
      "cell_type": "code",
      "source": [
        "M_normalized = M - user_mean_ratings\n",
        "\n",
        "M_normalized[M == 0] = 0\n",
        "\n",
        "M_normalized = normalize(M_normalized, axis=1)\n",
        "\n",
        "user_similarities = np.reshape(np.sum(M_normalized**2,axis=1),(M_normalized.shape[0],1))+ np.sum(M_normalized**2,axis=1)-2*M_normalized.dot(M_normalized.T)"
      ],
      "metadata": {
        "id": "PXvBBDAUvnPC"
      },
      "execution_count": null,
      "outputs": []
    },
    {
      "cell_type": "code",
      "source": [
        "M_normalized = M - movie_mean_ratings\n",
        "\n",
        "M_normalized[M == 0] = 0\n",
        "\n",
        "M_normalized = normalize(M_normalized, axis=0)\n",
        "\n",
        "movie_similarities = np.reshape(np.sum(M_normalized.T**2,axis=1),(M_normalized.T.shape[0],1))+ np.sum(M_normalized.T**2,axis=1)-2*M_normalized.T.dot(M_normalized)"
      ],
      "metadata": {
        "id": "BwZOE2qxlh5u"
      },
      "execution_count": null,
      "outputs": []
    },
    {
      "cell_type": "code",
      "source": [
        "top_k_list = [5, 10, 25, 50, 75, 100, 125, 150, 175, 200, 250, 300, 350, 400, 450, 500]\n",
        "# top_k_list = [5500, 5700, 6000, 6010, 6020, 6030, 6035]\n",
        "rmse_history = []\n",
        "\n",
        "for top_k in top_k_list:\n",
        "    print(\"************ top_k=\" + str(top_k) + \" **************\")\n",
        "    M_predicted = fast_rate(train, mode='user', sim_type='euc', top_k=top_k)\n",
        "    M_predicted = rescale_rating(M_predicted, 5, 1)\n",
        "    current_rmse = rmse(test, M_predicted)\n",
        "    print('User-based CF RMSE:'+str(current_rmse))\n",
        "    rmse_history.append(current_rmse)\n",
        "\n",
        "plt.figure(figsize=(10,5))\n",
        "plt.plot(top_k_list, rmse_history, marker='o')\n",
        "plt.title(\"User-based CF RMSE vs top_k (Euclidean Similarity)\")\n",
        "plt.xlabel(\"top_k\")\n",
        "plt.ylabel(\"RMSE\")\n",
        "plt.legend()\n",
        "plt.show()"
      ],
      "metadata": {
        "colab": {
          "base_uri": "https://localhost:8080/",
          "height": 940
        },
        "id": "-6UOeFfqmB50",
        "outputId": "817dd59b-88e4-473f-ba7d-049f58b4f63d"
      },
      "execution_count": null,
      "outputs": [
        {
          "output_type": "stream",
          "name": "stdout",
          "text": [
            "************ top_k=5 **************\n",
            "User-based CF RMSE:2.1559064127082848\n",
            "************ top_k=10 **************\n",
            "User-based CF RMSE:2.0683337386303715\n",
            "************ top_k=25 **************\n",
            "User-based CF RMSE:2.024742796438864\n",
            "************ top_k=50 **************\n",
            "User-based CF RMSE:1.9971347275046696\n",
            "************ top_k=75 **************\n",
            "User-based CF RMSE:1.9833965077536195\n",
            "************ top_k=100 **************\n",
            "User-based CF RMSE:1.9939819255999929\n",
            "************ top_k=125 **************\n",
            "User-based CF RMSE:1.9733739414512235\n",
            "************ top_k=150 **************\n",
            "User-based CF RMSE:1.9696222652220363\n",
            "************ top_k=175 **************\n",
            "User-based CF RMSE:1.967510880368115\n",
            "************ top_k=200 **************\n",
            "User-based CF RMSE:1.9614910428812469\n",
            "************ top_k=250 **************\n",
            "User-based CF RMSE:1.9681677339095616\n",
            "************ top_k=300 **************\n",
            "User-based CF RMSE:1.9770197214135752\n",
            "************ top_k=350 **************\n",
            "User-based CF RMSE:1.9831969841964006\n",
            "************ top_k=400 **************\n",
            "User-based CF RMSE:2.003054185187871\n",
            "************ top_k=450 **************\n",
            "User-based CF RMSE:2.013804260081507\n",
            "************ top_k=500 **************\n"
          ]
        },
        {
          "output_type": "stream",
          "name": "stderr",
          "text": [
            "No handles with labels found to put in legend.\n"
          ]
        },
        {
          "output_type": "stream",
          "name": "stdout",
          "text": [
            "User-based CF RMSE:2.020514750269726\n"
          ]
        },
        {
          "output_type": "display_data",
          "data": {
            "text/plain": [
              "<Figure size 720x360 with 1 Axes>"
            ],
            "image/png": "[encoded data removed]"
          },
          "metadata": {
            "needs_background": "light"
          }
        }
      ]
    },
    {
      "cell_type": "code",
      "source": [
        "# top_k_list = [5, 50, 100, 150, 200, 250, 300, 350, 400, 450, 500, 600, 700, 800, 900, 1000, 1500]\n",
        "top_k_list = [1, 3, 4, 5, 6, 7, 8, 9, 10, 15, 20]\n",
        "rmse_history = []\n",
        "\n",
        "for top_k in top_k_list:\n",
        "    print(\"************ top_k=\" + str(top_k) + \" **************\")\n",
        "    M_predicted = fast_rate(train, mode='item', sim_type='euc', top_k=top_k)\n",
        "    M_predicted = rescale_rating(M_predicted, 5, 1)\n",
        "    current_rmse = rmse(test, M_predicted)\n",
        "    print('Item-based CF RMSE:'+str(current_rmse))\n",
        "    rmse_history.append(current_rmse)\n",
        "\n",
        "plt.figure(figsize=(10,5))\n",
        "plt.plot(top_k_list, rmse_history, marker='o')\n",
        "plt.title(\"Item-based CF RMSE vs top_k (Euclidean Similarity)\")\n",
        "plt.xlabel(\"top_k\")\n",
        "plt.ylabel(\"RMSE\")\n",
        "plt.legend()\n",
        "plt.show()"
      ],
      "metadata": {
        "colab": {
          "base_uri": "https://localhost:8080/",
          "height": 762
        },
        "id": "7T6Urvr-mSQA",
        "outputId": "fdd10596-8035-41d7-bdf0-074d144ca2b0"
      },
      "execution_count": null,
      "outputs": [
        {
          "output_type": "stream",
          "name": "stdout",
          "text": [
            "************ top_k=1 **************\n",
            "Item-based CF RMSE:1.8017665218655685\n",
            "************ top_k=3 **************\n",
            "Item-based CF RMSE:1.999054902161723\n",
            "************ top_k=4 **************\n",
            "Item-based CF RMSE:1.2716372429529352\n",
            "************ top_k=5 **************\n",
            "Item-based CF RMSE:1.7778726512084484\n",
            "************ top_k=6 **************\n",
            "Item-based CF RMSE:2.8132658686043612\n",
            "************ top_k=7 **************\n",
            "Item-based CF RMSE:2.812486128159701\n",
            "************ top_k=8 **************\n",
            "Item-based CF RMSE:2.8120313010068525\n",
            "************ top_k=9 **************\n",
            "Item-based CF RMSE:2.8121404846497313\n",
            "************ top_k=10 **************\n",
            "Item-based CF RMSE:2.8121692476702034\n",
            "************ top_k=15 **************\n",
            "Item-based CF RMSE:2.812980555420185\n",
            "************ top_k=20 **************\n"
          ]
        },
        {
          "output_type": "stream",
          "name": "stderr",
          "text": [
            "No handles with labels found to put in legend.\n"
          ]
        },
        {
          "output_type": "stream",
          "name": "stdout",
          "text": [
            "Item-based CF RMSE:2.812426433459277\n"
          ]
        },
        {
          "output_type": "display_data",
          "data": {
            "text/plain": [
              "<Figure size 720x360 with 1 Axes>"
            ],
            "image/png": "[encoded data removed]"
          },
          "metadata": {
            "needs_background": "light"
          }
        }
      ]
    },
    {
      "cell_type": "markdown",
      "source": [
        "### matrix factorization, choose k"
      ],
      "metadata": {
        "id": "mwj53Da8oX0b"
      }
    },
    {
      "cell_type": "code",
      "source": [
        "# k_list = [20]\n",
        "# k_list = [5, 10, 15, 20, 25, 50, 75, 100, 125, 150, 175, 200, 250, 300]\n",
        "k_list = [5, 10, 15, 20, 25, 50, 75, 100]\n",
        "rmse_history = []\n",
        "loss_history = []\n",
        "\n",
        "for k in k_list:\n",
        "    W = np.random.rand(num_user, k)\n",
        "\n",
        "    H = np.random.rand(k, num_movie)\n",
        "\n",
        "    Z = np.argwhere(train != 0)\n",
        "\n",
        "    print(\"************ k=\" + str(k) + \" **************\")\n",
        "\n",
        "    loss_history,_,_ = matrix_fac(W, H, Z)\n",
        "\n",
        "    M_predicted = np.around(np.dot(W, H), decimals=3)\n",
        "    # M_predicted = rescale_rating(M_predicted, 5, 1)\n",
        "    current_rmse = rmse(test, M_predicted)\n",
        "    print('Model-based CF RMSE:'+str(current_rmse))\n",
        "    rmse_history.append(current_rmse)"
      ],
      "metadata": {
        "colab": {
          "base_uri": "https://localhost:8080/"
        },
        "id": "Knk9dm1mnIQ-",
        "outputId": "5af4a872-4c1d-4a92-bd7b-803515c38892"
      },
      "execution_count": null,
      "outputs": [
        {
          "output_type": "stream",
          "name": "stdout",
          "text": [
            "************ k=5 **************\n",
            "CPU times: user 5 µs, sys: 0 ns, total: 5 µs\n",
            "Wall time: 9.78 µs\n",
            "Finished epoch 1 (1.4898351074469827)\n",
            "Finished epoch 2 (0.9565915566922617)\n",
            "Finished epoch 3 (0.8972462972868841)\n",
            "Finished epoch 4 (0.8713179775355158)\n",
            "Finished epoch 5 (0.8572510839529559)\n",
            "Finished epoch 6 (0.8487404701000868)\n",
            "Finished epoch 7 (0.8432110208885711)\n",
            "Finished epoch 8 (0.8394255931876281)\n",
            "Finished epoch 9 (0.8367253857315987)\n",
            "Finished epoch 10 (0.8347329660436853)\n",
            "Finished epoch 11 (0.833219729168536)\n",
            "Finished epoch 12 (0.8320408960743721)\n",
            "Finished epoch 13 (0.8311012800083583)\n",
            "Finished epoch 14 (0.8303362154712759)\n",
            "Finished epoch 15 (0.8297004366433312)\n",
            "Finished epoch 16 (0.829161337297553)\n",
            "Finished epoch 17 (0.8286947471208661)\n",
            "Finished epoch 18 (0.8282822037683536)\n",
            "Finished epoch 19 (0.8279091400855157)\n",
            "Finished epoch 20 (0.8275636452530298)\n",
            "Model-based CF RMSE:0.9210274059051677\n",
            "************ k=10 **************\n",
            "CPU times: user 3 µs, sys: 0 ns, total: 3 µs\n",
            "Wall time: 5.96 µs\n",
            "Finished epoch 1 (0.9861720269542058)\n",
            "Finished epoch 2 (0.8819279265062105)\n",
            "Finished epoch 3 (0.8570399142619608)\n",
            "Finished epoch 4 (0.845036353652454)\n",
            "Finished epoch 5 (0.838130102674553)\n",
            "Finished epoch 6 (0.833767075305909)\n",
            "Finished epoch 7 (0.8308307344749206)\n",
            "Finished epoch 8 (0.8287549353974532)\n",
            "Finished epoch 9 (0.8272246120975043)\n",
            "Finished epoch 10 (0.8260523964761036)\n",
            "Finished epoch 11 (0.8251208472871813)\n",
            "Finished epoch 12 (0.8243529058952032)\n",
            "Finished epoch 13 (0.8236957703214338)\n",
            "Finished epoch 14 (0.8231116344798907)\n",
            "Finished epoch 15 (0.8225721449894665)\n",
            "Finished epoch 16 (0.8220549666325719)\n",
            "Finished epoch 17 (0.8215415942345697)\n",
            "Finished epoch 18 (0.8210159328625326)\n",
            "Finished epoch 19 (0.8204633759060463)\n",
            "Finished epoch 20 (0.819870227842759)\n",
            "Model-based CF RMSE:0.9198892963773462\n",
            "************ k=15 **************\n",
            "CPU times: user 3 µs, sys: 0 ns, total: 3 µs\n",
            "Wall time: 6.2 µs\n",
            "Finished epoch 1 (1.006327585740833)\n",
            "Finished epoch 2 (0.8946679548279339)\n",
            "Finished epoch 3 (0.8619112677526088)\n",
            "Finished epoch 4 (0.8462460436258241)\n",
            "Finished epoch 5 (0.8373833378229762)\n",
            "Finished epoch 6 (0.8318651494348575)\n",
            "Finished epoch 7 (0.828196333749482)\n",
            "Finished epoch 8 (0.8256312247068179)\n",
            "Finished epoch 9 (0.8237611294052589)\n",
            "Finished epoch 10 (0.8223459773815016)\n",
            "Finished epoch 11 (0.8212367163775393)\n",
            "Finished epoch 12 (0.8203362836055467)\n",
            "Finished epoch 13 (0.8195786331943002)\n",
            "Finished epoch 14 (0.8189168520752963)\n",
            "Finished epoch 15 (0.818316121803421)\n",
            "Finished epoch 16 (0.8177493920353617)\n",
            "Finished epoch 17 (0.8171946388361334)\n",
            "Finished epoch 18 (0.8166330905112628)\n",
            "Finished epoch 19 (0.8160480743285545)\n",
            "Finished epoch 20 (0.8154242876575857)\n",
            "Model-based CF RMSE:0.9195199216411544\n",
            "************ k=20 **************\n",
            "CPU times: user 3 µs, sys: 0 ns, total: 3 µs\n",
            "Wall time: 5.48 µs\n",
            "Finished epoch 1 (1.2598014707469338)\n",
            "Finished epoch 2 (0.9555515769165378)\n",
            "Finished epoch 3 (0.8896864236821415)\n",
            "Finished epoch 4 (0.8609286617808058)\n",
            "Finished epoch 5 (0.845377745079756)\n",
            "Finished epoch 6 (0.8359518322917645)\n",
            "Finished epoch 7 (0.8297909114638033)\n",
            "Finished epoch 8 (0.8255297240337364)\n",
            "Finished epoch 9 (0.8224418600841393)\n",
            "Finished epoch 10 (0.8201093328194909)\n",
            "Finished epoch 11 (0.8182763710027666)\n",
            "Finished epoch 12 (0.816778134744926)\n",
            "Finished epoch 13 (0.8155033410536345)\n",
            "Finished epoch 14 (0.8143735313392134)\n",
            "Finished epoch 15 (0.8133310537884716)\n",
            "Finished epoch 16 (0.8123318703287048)\n",
            "Finished epoch 17 (0.8113411754979938)\n",
            "Finished epoch 18 (0.8103307396007704)\n",
            "Finished epoch 19 (0.8092773638820915)\n",
            "Finished epoch 20 (0.8081620847754444)\n",
            "Model-based CF RMSE:0.9184357690676338\n",
            "************ k=25 **************\n",
            "CPU times: user 3 µs, sys: 0 ns, total: 3 µs\n",
            "Wall time: 5.96 µs\n",
            "Finished epoch 1 (1.6112440823466656)\n",
            "Finished epoch 2 (1.0548216909454746)\n",
            "Finished epoch 3 (0.9373683871142803)\n",
            "Finished epoch 4 (0.8877692164356668)\n",
            "Finished epoch 5 (0.8615779369086145)\n",
            "Finished epoch 6 (0.8459942786151479)\n",
            "Finished epoch 7 (0.8359755579617175)\n",
            "Finished epoch 8 (0.8291659116144912)\n",
            "Finished epoch 9 (0.8243339299459527)\n",
            "Finished epoch 10 (0.8207815034756194)\n",
            "Finished epoch 11 (0.818087328587426)\n",
            "Finished epoch 12 (0.8159839424564401)\n",
            "Finished epoch 13 (0.814294086795346)\n",
            "Finished epoch 14 (0.812895709085571)\n",
            "Finished epoch 15 (0.8117017318475492)\n",
            "Finished epoch 16 (0.8106478656563136)\n",
            "Finished epoch 17 (0.8096850148962063)\n",
            "Finished epoch 18 (0.8087744210378451)\n",
            "Finished epoch 19 (0.8078845079176591)\n",
            "Finished epoch 20 (0.8069888334886304)\n",
            "Model-based CF RMSE:0.919827137665389\n",
            "************ k=50 **************\n",
            "CPU times: user 3 µs, sys: 0 ns, total: 3 µs\n",
            "Wall time: 5.72 µs\n",
            "Finished epoch 1 (3.4534043526065985)\n",
            "Finished epoch 2 (1.7900357601056482)\n",
            "Finished epoch 3 (1.3407675772464933)\n",
            "Finished epoch 4 (1.134507692276022)\n",
            "Finished epoch 5 (1.0207190308795089)\n",
            "Finished epoch 6 (0.9517444895756191)\n",
            "Finished epoch 7 (0.9072567928839707)\n",
            "Finished epoch 8 (0.8771742474739043)\n",
            "Finished epoch 9 (0.8560240970632095)\n",
            "Finished epoch 10 (0.8406464130425099)\n",
            "Finished epoch 11 (0.8291284317848117)\n",
            "Finished epoch 12 (0.8202656774631847)\n",
            "Finished epoch 13 (0.8132726703831618)\n",
            "Finished epoch 14 (0.8076205330368551)\n",
            "Finished epoch 15 (0.8029425291016582)\n",
            "Finished epoch 16 (0.7989774617444435)\n",
            "Finished epoch 17 (0.7955348914764857)\n",
            "Finished epoch 18 (0.7924733043929226)\n",
            "Finished epoch 19 (0.7896861669919816)\n",
            "Finished epoch 20 (0.7870928830393088)\n",
            "Model-based CF RMSE:0.9214363462499869\n",
            "************ k=75 **************\n",
            "CPU times: user 3 µs, sys: 0 ns, total: 3 µs\n",
            "Wall time: 5.96 µs\n",
            "Finished epoch 1 (4.92192995310012)\n",
            "Finished epoch 2 (2.599423030044854)\n",
            "Finished epoch 3 (1.8613176717805229)\n",
            "Finished epoch 4 (1.4899396840018198)\n",
            "Finished epoch 5 (1.2685951849221222)\n",
            "Finished epoch 6 (1.1254738370355044)\n",
            "Finished epoch 7 (1.028530078861959)\n",
            "Finished epoch 8 (0.9608170862023694)\n",
            "Finished epoch 9 (0.9123964536056233)\n",
            "Finished epoch 10 (0.8770569811521424)\n",
            "Finished epoch 11 (0.8507602077005589)\n",
            "Finished epoch 12 (0.8308123695328526)\n",
            "Finished epoch 13 (0.815384222771045)\n",
            "Finished epoch 14 (0.803216101889942)\n",
            "Finished epoch 15 (0.7934299714488343)\n",
            "Finished epoch 16 (0.7854068708433465)\n",
            "Finished epoch 17 (0.7787057843341619)\n",
            "Finished epoch 18 (0.7730093180766534)\n",
            "Finished epoch 19 (0.7680869428373084)\n",
            "Finished epoch 20 (0.7637698406508588)\n",
            "Model-based CF RMSE:0.9239809544090791\n",
            "************ k=100 **************\n",
            "CPU times: user 2 µs, sys: 0 ns, total: 2 µs\n",
            "Wall time: 5.96 µs\n",
            "Finished epoch 1 (5.999363174792159)\n",
            "Finished epoch 2 (3.283743795131496)\n",
            "Finished epoch 3 (2.3408266460166867)\n",
            "Finished epoch 4 (1.8384812888566722)\n",
            "Finished epoch 5 (1.5231359901624981)\n",
            "Finished epoch 6 (1.3096033135810587)\n",
            "Finished epoch 7 (1.1594356093854497)\n",
            "Finished epoch 8 (1.051672384649716)\n",
            "Finished epoch 9 (0.9733972120480697)\n",
            "Finished epoch 10 (0.916027755876812)\n",
            "Finished epoch 11 (0.8736174689220542)\n",
            "Finished epoch 12 (0.8419614132835779)\n",
            "Finished epoch 13 (0.818061706569477)\n",
            "Finished epoch 14 (0.7997758075979576)\n",
            "Finished epoch 15 (0.7855717299834)\n",
            "Finished epoch 16 (0.774353488101628)\n",
            "Finished epoch 17 (0.7653359277785889)\n",
            "Finished epoch 18 (0.7579552084292845)\n",
            "Finished epoch 19 (0.751805080508976)\n",
            "Finished epoch 20 (0.7465916828737936)\n",
            "Model-based CF RMSE:0.9330345602569169\n"
          ]
        }
      ]
    },
    {
      "cell_type": "code",
      "source": [
        "plt.figure(figsize=(10,5))\n",
        "plt.plot(k_list, rmse_history, marker='o')\n",
        "plt.title(\"Matrix Factorization RMSE vs k\")\n",
        "plt.xlabel(\"k\")\n",
        "plt.ylabel(\"RMSE\")\n",
        "plt.legend()\n",
        "plt.show()"
      ],
      "metadata": {
        "colab": {
          "base_uri": "https://localhost:8080/",
          "height": 368
        },
        "id": "H2gUZeQ0okEa",
        "outputId": "6639b074-b0d3-4a46-e6e5-69e80822ac70"
      },
      "execution_count": null,
      "outputs": [
        {
          "output_type": "stream",
          "name": "stderr",
          "text": [
            "No handles with labels found to put in legend.\n"
          ]
        },
        {
          "output_type": "display_data",
          "data": {
            "text/plain": [
              "<Figure size 720x360 with 1 Axes>"
            ],
            "image/png": "[encoded data removed]"
          },
          "metadata": {
            "needs_background": "light"
          }
        }
      ]
    },
    {
      "cell_type": "markdown",
      "source": [
        "## Best RMSE results"
      ],
      "metadata": {
        "id": "vsE6Nv8UQuVW"
      }
    },
    {
      "cell_type": "code",
      "source": [
        "M_normalized = M - user_mean_ratings\n",
        "M_normalized[M == 0] = 0\n",
        "M_normalized = normalize(M_normalized, axis=1)\n",
        "\n",
        "user_similarities = np.reshape(np.sum(M_normalized**2,axis=1),(M_normalized.shape[0],1))+ np.sum(M_normalized**2,axis=1)-2*M_normalized.dot(M_normalized.T)"
      ],
      "metadata": {
        "id": "afqRbsAlDjjV"
      },
      "execution_count": 66,
      "outputs": []
    },
    {
      "cell_type": "code",
      "source": [
        "M_normalized = M - movie_mean_ratings\n",
        "M_normalized[M == 0] = 0\n",
        "M_normalized = normalize(M_normalized, axis=0)\n",
        "\n",
        "movie_similarities = np.reshape(np.sum(M_normalized.T**2,axis=1),(M_normalized.T.shape[0],1))+ np.sum(M_normalized.T**2,axis=1)-2*M_normalized.T.dot(M_normalized)"
      ],
      "metadata": {
        "id": "Rdx4rsdUDjjW"
      },
      "execution_count": 67,
      "outputs": []
    },
    {
      "cell_type": "code",
      "source": [
        "user_M_predicted = fast_rate(train,mode='user',sim_type='euc',top_k=200)\n",
        "item_M_predicted = fast_rate(train,mode='item',sim_type='euc',top_k=4)\n",
        "user_M_predicted_ = rescale_rating(user_M_predicted, 5, 1)\n",
        "item_M_predicted_ = rescale_rating(item_M_predicted, 5, 1)"
      ],
      "metadata": {
        "id": "e81vcSKs5zuH"
      },
      "execution_count": 68,
      "outputs": []
    },
    {
      "cell_type": "code",
      "source": [
        "k = 5\n",
        "ini_W = np.random.rand(num_user, k)\n",
        "ini_H = np.random.rand(k, num_movie)\n",
        "ini_Z = np.argwhere(train != 0)\n",
        "_,W,H = matrix_fac(ini_W, ini_H, ini_Z)\n",
        "model_M_predicted = np.around(np.dot(W, H), decimals=3)\n",
        "model_M_predicted_ = rescale_rating(model_M_predicted, 5, 1)"
      ],
      "metadata": {
        "id": "iznqk9q7HF-T",
        "colab": {
          "base_uri": "https://localhost:8080/"
        },
        "outputId": "f42e1a10-57e3-4096-b793-4543ccb57365"
      },
      "execution_count": 69,
      "outputs": [
        {
          "output_type": "stream",
          "name": "stdout",
          "text": [
            "CPU times: user 3 µs, sys: 0 ns, total: 3 µs\n",
            "Wall time: 6.2 µs\n",
            "Finished epoch 1 (1.5062598115846262)\n",
            "Finished epoch 2 (0.9593541182924517)\n",
            "Finished epoch 3 (0.8981553432499669)\n",
            "Finished epoch 4 (0.8715402498861233)\n",
            "Finished epoch 5 (0.8571716448551888)\n",
            "Finished epoch 6 (0.8485213578008357)\n",
            "Finished epoch 7 (0.842927725775676)\n",
            "Finished epoch 8 (0.8391147330035496)\n",
            "Finished epoch 9 (0.8364045648318593)\n",
            "Finished epoch 10 (0.8344099949746117)\n",
            "Finished epoch 11 (0.8328972040600633)\n",
            "Finished epoch 12 (0.8317185632464784)\n",
            "Finished epoch 13 (0.8307772774335953)\n",
            "Finished epoch 14 (0.8300077215410574)\n",
            "Finished epoch 15 (0.8293639977016086)\n",
            "Finished epoch 16 (0.8288130176051306)\n",
            "Finished epoch 17 (0.8283301789492944)\n",
            "Finished epoch 18 (0.8278965803601717)\n",
            "Finished epoch 19 (0.8274971755141428)\n",
            "Finished epoch 20 (0.8271195153456341)\n"
          ]
        }
      ]
    },
    {
      "cell_type": "code",
      "source": [
        "print('User-based CF RMSE:'+str(rmse(test,user_M_predicted_)))"
      ],
      "metadata": {
        "id": "HL0hQFiBUm8n",
        "colab": {
          "base_uri": "https://localhost:8080/"
        },
        "outputId": "90c88144-f852-4112-a279-8f86c2345524"
      },
      "execution_count": 70,
      "outputs": [
        {
          "output_type": "stream",
          "name": "stdout",
          "text": [
            "User-based CF RMSE:1.9614910428812469\n"
          ]
        }
      ]
    },
    {
      "cell_type": "code",
      "source": [
        "print('Item-based CF RMSE:'+str(rmse(test,item_M_predicted_)))"
      ],
      "metadata": {
        "id": "jd8UfmZPHdzU",
        "colab": {
          "base_uri": "https://localhost:8080/"
        },
        "outputId": "a7ba4c0a-5a79-418c-d8bd-38455f27d819"
      },
      "execution_count": 71,
      "outputs": [
        {
          "output_type": "stream",
          "name": "stdout",
          "text": [
            "Item-based CF RMSE:1.2716372429529352\n"
          ]
        }
      ]
    },
    {
      "cell_type": "code",
      "source": [
        "print('Model-based CF RMSE:'+str(rmse(test,model_M_predicted_)))"
      ],
      "metadata": {
        "colab": {
          "base_uri": "https://localhost:8080/"
        },
        "id": "ZuQy8NErv_rJ",
        "outputId": "02c53b10-1be9-488a-c2b3-ba035923a826"
      },
      "execution_count": 72,
      "outputs": [
        {
          "output_type": "stream",
          "name": "stdout",
          "text": [
            "Model-based CF RMSE:1.1037361140527553\n"
          ]
        }
      ]
    },
    {
      "cell_type": "markdown",
      "source": [
        "## Recommendation of different methods"
      ],
      "metadata": {
        "id": "Vu_cqfVjzNGq"
      }
    },
    {
      "cell_type": "code",
      "source": [
        "def get_recommendation_cf(M_predicted, user_id, topk=10, remove_rated=True):\n",
        "    \n",
        "    ### Get the user index\n",
        "    user_idx = user_id2idx[user_id]\n",
        "    recommendations = np.argsort(M_predicted[user_idx].squeeze())\n",
        "    \n",
        "    if remove_rated == True:\n",
        "        already_rated_movies = np.where(M[user_idx] != 0)[0]\n",
        "        recommendations = np.delete(recommendations, already_rated_movies)    \n",
        "\n",
        "    recommendations = recommendations[::-1][:topk]\n",
        "    return np.array([ movie_idx2id[r] for r in recommendations ])\n",
        "    "
      ],
      "metadata": {
        "id": "wo2XWgK32qdu"
      },
      "execution_count": 73,
      "outputs": []
    },
    {
      "cell_type": "code",
      "source": [
        "def recommend_rank(user_id,M_predicted):\n",
        "  for rank, movie_id in enumerate(get_recommendation_cf(M_predicted, user_id)):\n",
        "      user_idx, movie_idx = user_id2idx[user_id], movie_id2idx[movie_id]\n",
        "      title, genres = movie_dict[movie_id]\n",
        "      avg_rating = movie_mean_ratings[movie_idx]\n",
        "      pred_rating = M_predicted[user_idx,movie_idx]\n",
        "      print('[Rank {} ({:.2f}/{:.2f})] {} {}'.format(rank+1, pred_rating, avg_rating, title, '/'.join(genres)))"
      ],
      "metadata": {
        "id": "l_ESe7wg2r3k"
      },
      "execution_count": 74,
      "outputs": []
    },
    {
      "cell_type": "code",
      "source": [
        "test_user_id = 4033\n",
        "print(\"User-based Recommendation for user \" + str(test_user_id) + \":\")\n",
        "recommend_rank(test_user_id,user_M_predicted_)\n",
        "print(\"Item-based Recommendation for user \" + str(test_user_id) + \":\")\n",
        "recommend_rank(test_user_id,item_M_predicted_)\n",
        "print(\"Matrix Factorization Recommendation for user \" + str(test_user_id) + \":\")\n",
        "recommend_rank(test_user_id,model_M_predicted_)\n",
        "print(\"Singularity Value Decomposition Recommendation for user \" + str(test_user_id) + \":\")\n",
        "recommend_rank(test_user_id,UsV)"
      ],
      "metadata": {
        "colab": {
          "base_uri": "https://localhost:8080/"
        },
        "id": "eqH5M_BnFNbk",
        "outputId": "ffa9a0f7-6534-4ddb-ed8f-1eae19c613db"
      },
      "execution_count": 75,
      "outputs": [
        {
          "output_type": "stream",
          "name": "stdout",
          "text": [
            "User-based Recommendation for user 4033:\n",
            "[Rank 1 (4.75/4.48)] Raiders of the Lost Ark (1981) action/adventure\n",
            "[Rank 2 (4.67/4.32)] Matrix, The (1999) thriller/action/sci-fi\n",
            "[Rank 3 (4.64/4.34)] Saving Private Ryan (1998) drama/action/war\n",
            "[Rank 4 (4.59/4.45)] Star Wars: Episode IV - A New Hope (1977) action/adventure/fantasy/sci-fi\n",
            "[Rank 5 (4.56/4.29)] Star Wars: Episode V - The Empire Strikes Back (1980) drama/war/adventure/action/sci-fi\n",
            "[Rank 6 (4.53/4.02)] Star Wars: Episode VI - Return of the Jedi (1983) war/romance/adventure/action/sci-fi\n",
            "[Rank 7 (4.45/4.23)] Braveheart (1995) drama/action/war\n",
            "[Rank 8 (4.37/4.06)] Terminator 2: Judgment Day (1991) thriller/action/sci-fi\n",
            "[Rank 9 (4.31/4.09)] Forrest Gump (1994) comedy/romance/war\n",
            "[Rank 10 (4.31/4.12)] Die Hard (1988) thriller/action\n",
            "Item-based Recommendation for user 4033:\n",
            "[Rank 1 (4.27/1.77)] Police Academy 5: Assignment: Miami Beach (1988) comedy\n",
            "[Rank 2 (4.26/1.91)] Police Academy 4: Citizens on Patrol (1987) comedy\n",
            "[Rank 3 (4.25/2.03)] Police Academy 3: Back in Training (1986) comedy\n",
            "[Rank 4 (4.25/2.39)] Police Academy 2: Their First Assignment (1985) comedy\n",
            "[Rank 5 (4.25/3.25)] Lethal Weapon 3 (1992) drama/comedy/action/crime\n",
            "[Rank 6 (4.24/1.89)] Superman IV: The Quest for Peace (1987) action/adventure/sci-fi\n",
            "[Rank 7 (4.24/3.14)] Lethal Weapon 4 (1998) drama/comedy/action/crime\n",
            "[Rank 8 (4.23/1.66)] Police Academy 6: City Under Siege (1989) comedy\n",
            "[Rank 9 (4.22/2.04)] Porky's Revenge (1985) comedy\n",
            "[Rank 10 (4.19/4.55)] Shawshank Redemption, The (1994) drama\n",
            "Matrix Factorization Recommendation for user 4033:\n",
            "[Rank 1 (3.98/4.61)] Sanjuro (1962) action/adventure\n",
            "[Rank 2 (3.90/4.55)] Shawshank Redemption, The (1994) drama\n",
            "[Rank 3 (3.89/4.56)] Seven Samurai (The Magnificent Seven) (Shichinin no samurai) (1954) drama/action\n",
            "[Rank 4 (3.89/4.52)] Close Shave, A (1995) comedy/animation/thriller\n",
            "[Rank 5 (3.88/4.51)] Schindler's List (1993) drama/war\n",
            "[Rank 6 (3.87/4.49)] Sunset Blvd. (a.k.a. Sunset Boulevard) (1950) film-noir\n",
            "[Rank 7 (3.86/4.51)] Wrong Trousers, The (1993) comedy/animation\n",
            "[Rank 8 (3.86/4.45)] Dr. Strangelove or: How I Learned to Stop Worrying and Love the Bomb (1963) sci-fi/war\n",
            "[Rank 9 (3.85/4.48)] Rear Window (1954) thriller/mystery\n",
            "[Rank 10 (3.85/4.37)] General, The (1927) comedy\n",
            "Singularity Value Decomposition Recommendation for user 4033:\n",
            "[Rank 1 (4.28/4.12)] Ferris Bueller's Day Off (1986) comedy\n",
            "[Rank 2 (4.28/4.30)] Princess Bride, The (1987) comedy/action/romance/adventure\n",
            "[Rank 3 (4.09/3.88)] Breakfast Club, The (1985) drama/comedy\n",
            "[Rank 4 (4.06/4.07)] When Harry Met Sally... (1989) comedy/romance\n",
            "[Rank 5 (3.99/4.52)] Usual Suspects, The (1995) thriller/crime\n",
            "[Rank 6 (3.95/4.09)] Forrest Gump (1994) comedy/romance/war\n",
            "[Rank 7 (3.93/3.95)] Groundhog Day (1993) comedy/romance\n",
            "[Rank 8 (3.91/3.89)] Lethal Weapon (1987) drama/comedy/action/crime\n",
            "[Rank 9 (3.86/3.69)] Romancing the Stone (1984) comedy/action/romance/adventure\n",
            "[Rank 10 (3.83/3.76)] Jerry Maguire (1996) drama/romance\n"
          ]
        }
      ]
    },
    {
      "cell_type": "code",
      "source": [
        "# user-profile-euclidean\n",
        "test_user_id = 4033\n",
        "print(\"User-Profile Similarity Recommendation for user \" + str(test_user_id) + \":\")\n",
        "recommend_rank(test_user_id,M_predicted_scale)\n",
        "# movie-profile-tf-idf\n",
        "test_user_id = 4033\n",
        "print(\"Movie-Profile Similarity Recommendation for user \" + str(test_user_id) + \":\")\n",
        "recommend_rank(test_user_id,M_predicted_tfidf)"
      ],
      "metadata": {
        "id": "2tmY2Nch3SaB",
        "outputId": "87f9e582-ce6a-4032-d9f3-d3e45aa9018c",
        "colab": {
          "base_uri": "https://localhost:8080/"
        }
      },
      "execution_count": 87,
      "outputs": [
        {
          "output_type": "stream",
          "name": "stdout",
          "text": [
            "User-Profile Similarity Recommendation for user 4033:\n",
            "[Rank 1 (2.07/4.45)] Star Wars: Episode IV - A New Hope (1977) action/adventure/fantasy/sci-fi\n",
            "[Rank 2 (2.07/4.02)] Star Wars: Episode VI - Return of the Jedi (1983) war/romance/adventure/action/sci-fi\n",
            "[Rank 3 (2.07/4.29)] Star Wars: Episode V - The Empire Strikes Back (1980) drama/war/adventure/action/sci-fi\n",
            "[Rank 4 (2.07/4.15)] Terminator, The (1984) thriller/action/sci-fi\n",
            "[Rank 5 (2.07/4.35)] Silence of the Lambs, The (1991) drama/thriller\n",
            "[Rank 6 (2.07/4.32)] Matrix, The (1999) thriller/action/sci-fi\n",
            "[Rank 7 (2.07/3.99)] Back to the Future (1985) comedy/sci-fi\n",
            "[Rank 8 (2.07/3.68)] Who Framed Roger Rabbit? (1988) film-noir/animation/adventure\n",
            "[Rank 9 (2.07/4.32)] American Beauty (1999) drama/comedy\n",
            "[Rank 10 (2.07/4.10)] Fugitive, The (1993) thriller/action\n",
            "Movie-Profile Similarity Recommendation for user 4033:\n",
            "[Rank 1 (3.23/3.09)] Tequila Sunrise (1988) thriller/action/romance\n",
            "[Rank 2 (3.23/3.57)] Speed (1994) thriller/action/romance\n",
            "[Rank 3 (3.23/3.44)] Tomorrow Never Dies (1997) thriller/action/romance\n",
            "[Rank 4 (3.23/3.45)] Crow, The (1994) thriller/action/romance\n",
            "[Rank 5 (3.23/1.87)] Speed 2: Cruise Control (1997) thriller/action/romance\n",
            "[Rank 6 (3.23/3.46)] Desperado (1995) thriller/action/romance\n",
            "[Rank 7 (3.23/3.20)] Saint, The (1997) thriller/action/romance\n",
            "[Rank 8 (3.23/3.17)] Twister (1996) thriller/action/romance/adventure\n",
            "[Rank 9 (3.23/2.58)] Bird on a Wire (1990) thriller/action/romance/adventure\n",
            "[Rank 10 (3.03/3.14)] Natural Born Killers (1994) thriller/action\n"
          ]
        }
      ]
    },
    {
      "cell_type": "markdown",
      "source": [
        "# Summary"
      ],
      "metadata": {
        "id": "-QGL1ReUprmE"
      }
    },
    {
      "cell_type": "markdown",
      "source": [
        "The common goal of CF-based methods is to predict unknown ratings based on the available ratings, and there a various methods to accomplish this. In this notebook we looked at implementations of the memory-based and model-based approach. Of course, we covered only the most basic steps, and practical implementations of recommender systems use a variety of extension to further improve the recommendations.\n",
        "\n",
        "Most basically, one can combine different methods (including content-based ones) to utilize the different benefits and curb their in individual drawbacks. In general, what defines a good set of recommendations to often very subjective and there a many different tweaks to recommender systems to improve users' experience and satisfaction."
      ],
      "metadata": {
        "id": "5SEtelO03TT_"
      }
    },
    {
      "cell_type": "code",
      "execution_count": null,
      "metadata": {
        "id": "-ZIW9NwoS3AK"
      },
      "outputs": [],
      "source": [
        ""
      ]
    }
  ],
  "metadata": {
    "colab": {
      "collapsed_sections": [],
      "name": "assignment_2_MovieLens.ipynb",
      "provenance": [],
      "toc_visible": true
    },
    "kernelspec": {
      "display_name": "Python 3 (ipykernel)",
      "language": "python",
      "name": "python3"
    },
    "language_info": {
      "codemirror_mode": {
        "name": "ipython",
        "version": 3
      },
      "file_extension": ".py",
      "mimetype": "text/x-python",
      "name": "python",
      "nbconvert_exporter": "python",
      "pygments_lexer": "ipython3",
      "version": "3.7.10"
    }
  },
  "nbformat": 4,
  "nbformat_minor": 0
}
